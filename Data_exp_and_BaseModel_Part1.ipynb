{
 "cells": [
  {
   "cell_type": "markdown",
   "id": "cf24aeb3-5eb3-4a93-89ee-cae0e379d281",
   "metadata": {},
   "source": [
    "# Final Project: Link Prediction with NASA GES-DISC Dataset Part1"
   ]
  },
  {
   "cell_type": "markdown",
   "id": "99e9bfd2-be48-4955-bc1b-1d44a3dd0f63",
   "metadata": {},
   "source": [
    "# Sagar Sheth\n",
    "G32921700"
   ]
  },
  {
   "cell_type": "markdown",
   "id": "d4447d3c-3849-4efe-a6da-17b0dc1ab75c",
   "metadata": {},
   "source": [
    "# Data Exploration & Basline Models"
   ]
  },
  {
   "attachments": {},
   "cell_type": "markdown",
   "id": "afd5effd-cffe-4cf1-9147-2f8641d2880a",
   "metadata": {},
   "source": [
    "1. The NASA Goddard Earth Sciences Data and Information Services Center (GES DISC) has developed a knowledge graph to enhance dataset discovery and research reproducibility. \n",
    "2. This graph connects various entities such as datasets, publications, instruments, platforms, authors, and science keywords, facilitating improved navigation and understanding of the relationships between these components.\n",
    "3. By integrating machine learning techniques like link prediction, we can identify missing associations between datasets and science keywords. This approach enhances metadata completeness, thereby improving dataset discoverability.\n",
    "4. Additionally, by utilizing GNN’s with RAG one can augment and enrich recommendations with more relevant content."
   ]
  },
  {
   "cell_type": "code",
   "execution_count": 1,
   "id": "8ccbf494-8c7f-4043-8185-bfcf227556d4",
   "metadata": {},
   "outputs": [],
   "source": [
    "#!pip install torch_geometric\n",
    "#!pip install pyg_lib torch_scatter torch_sparse torch_cluster torch_spline_conv -f https://data.pyg.org/whl/torch-2.4.0+cu121.html"
   ]
  },
  {
   "cell_type": "code",
   "execution_count": 2,
   "id": "e63f6dc0-dda0-4716-af13-87f818a3243a",
   "metadata": {},
   "outputs": [],
   "source": [
    "import pandas as pd\n",
    "from torch_geometric.data import Data\n",
    "from torch_geometric.utils import from_networkx\n",
    "import networkx as nx\n",
    "import ast\n",
    "import matplotlib.pyplot as plt"
   ]
  },
  {
   "cell_type": "code",
   "execution_count": 3,
   "id": "9e80f4c4-d7f4-47c7-bdeb-8e1d5c6b3d4b",
   "metadata": {},
   "outputs": [],
   "source": [
    "# Load node and edge data\n",
    "nodes_df = pd.read_csv('./Data/nodes.csv')\n",
    "edges_df = pd.read_csv('./Data/train_edges.csv')\n"
   ]
  },
  {
   "cell_type": "code",
   "execution_count": 4,
   "id": "b4d1ab4e-8a6e-4965-88e8-d00e003a05c3",
   "metadata": {},
   "outputs": [
    {
     "data": {
      "text/html": [
       "<div>\n",
       "<style scoped>\n",
       "    .dataframe tbody tr th:only-of-type {\n",
       "        vertical-align: middle;\n",
       "    }\n",
       "\n",
       "    .dataframe tbody tr th {\n",
       "        vertical-align: top;\n",
       "    }\n",
       "\n",
       "    .dataframe thead th {\n",
       "        text-align: right;\n",
       "    }\n",
       "</style>\n",
       "<table border=\"1\" class=\"dataframe\">\n",
       "  <thead>\n",
       "    <tr style=\"text-align: right;\">\n",
       "      <th></th>\n",
       "      <th>id</th>\n",
       "      <th>label</th>\n",
       "      <th>properties</th>\n",
       "    </tr>\n",
       "  </thead>\n",
       "  <tbody>\n",
       "    <tr>\n",
       "      <th>0</th>\n",
       "      <td>0</td>\n",
       "      <td>['Dataset']</td>\n",
       "      <td>{'abstract': 'The Atmospheric Infrared Sounder...</td>\n",
       "    </tr>\n",
       "    <tr>\n",
       "      <th>1</th>\n",
       "      <td>1</td>\n",
       "      <td>['Dataset']</td>\n",
       "      <td>{'abstract': 'Version 07 is the current versio...</td>\n",
       "    </tr>\n",
       "    <tr>\n",
       "      <th>2</th>\n",
       "      <td>2</td>\n",
       "      <td>['Dataset']</td>\n",
       "      <td>{'abstract': 'The Solar Backscattered Ultravio...</td>\n",
       "    </tr>\n",
       "    <tr>\n",
       "      <th>3</th>\n",
       "      <td>3</td>\n",
       "      <td>['Dataset']</td>\n",
       "      <td>{'abstract': 'The data presented in this level...</td>\n",
       "    </tr>\n",
       "    <tr>\n",
       "      <th>4</th>\n",
       "      <td>4</td>\n",
       "      <td>['Dataset']</td>\n",
       "      <td>{'abstract': 'The TROPESS CrIS-SNPP L2 for Sao...</td>\n",
       "    </tr>\n",
       "    <tr>\n",
       "      <th>...</th>\n",
       "      <td>...</td>\n",
       "      <td>...</td>\n",
       "      <td>...</td>\n",
       "    </tr>\n",
       "    <tr>\n",
       "      <th>5758</th>\n",
       "      <td>25019</td>\n",
       "      <td>['ScienceKeyword']</td>\n",
       "      <td>{'name': 'WATER ION CONCENTRATIONS', 'globalId...</td>\n",
       "    </tr>\n",
       "    <tr>\n",
       "      <th>5759</th>\n",
       "      <td>25020</td>\n",
       "      <td>['ScienceKeyword']</td>\n",
       "      <td>{'name': 'WATER TRACE ELEMENTS', 'globalId': '...</td>\n",
       "    </tr>\n",
       "    <tr>\n",
       "      <th>5760</th>\n",
       "      <td>25021</td>\n",
       "      <td>['ScienceKeyword']</td>\n",
       "      <td>{'name': 'pH', 'globalId': 'd2cbb2ca-aaa2-54f1...</td>\n",
       "    </tr>\n",
       "    <tr>\n",
       "      <th>5761</th>\n",
       "      <td>25022</td>\n",
       "      <td>['ScienceKeyword']</td>\n",
       "      <td>{'name': 'WATER QUALITY INDEXES', 'globalId': ...</td>\n",
       "    </tr>\n",
       "    <tr>\n",
       "      <th>5762</th>\n",
       "      <td>25023</td>\n",
       "      <td>['ScienceKeyword']</td>\n",
       "      <td>{'name': 'INDEX OF BIOTIC INTEGRITY', 'globalI...</td>\n",
       "    </tr>\n",
       "  </tbody>\n",
       "</table>\n",
       "<p>5763 rows × 3 columns</p>\n",
       "</div>"
      ],
      "text/plain": [
       "         id               label  \\\n",
       "0         0         ['Dataset']   \n",
       "1         1         ['Dataset']   \n",
       "2         2         ['Dataset']   \n",
       "3         3         ['Dataset']   \n",
       "4         4         ['Dataset']   \n",
       "...     ...                 ...   \n",
       "5758  25019  ['ScienceKeyword']   \n",
       "5759  25020  ['ScienceKeyword']   \n",
       "5760  25021  ['ScienceKeyword']   \n",
       "5761  25022  ['ScienceKeyword']   \n",
       "5762  25023  ['ScienceKeyword']   \n",
       "\n",
       "                                             properties  \n",
       "0     {'abstract': 'The Atmospheric Infrared Sounder...  \n",
       "1     {'abstract': 'Version 07 is the current versio...  \n",
       "2     {'abstract': 'The Solar Backscattered Ultravio...  \n",
       "3     {'abstract': 'The data presented in this level...  \n",
       "4     {'abstract': 'The TROPESS CrIS-SNPP L2 for Sao...  \n",
       "...                                                 ...  \n",
       "5758  {'name': 'WATER ION CONCENTRATIONS', 'globalId...  \n",
       "5759  {'name': 'WATER TRACE ELEMENTS', 'globalId': '...  \n",
       "5760  {'name': 'pH', 'globalId': 'd2cbb2ca-aaa2-54f1...  \n",
       "5761  {'name': 'WATER QUALITY INDEXES', 'globalId': ...  \n",
       "5762  {'name': 'INDEX OF BIOTIC INTEGRITY', 'globalI...  \n",
       "\n",
       "[5763 rows x 3 columns]"
      ]
     },
     "execution_count": 4,
     "metadata": {},
     "output_type": "execute_result"
    }
   ],
   "source": [
    "nodes_df"
   ]
  },
  {
   "cell_type": "code",
   "execution_count": 5,
   "id": "eb6966f5-9155-403c-99ef-d08a96110508",
   "metadata": {},
   "outputs": [
    {
     "data": {
      "text/html": [
       "<div>\n",
       "<style scoped>\n",
       "    .dataframe tbody tr th:only-of-type {\n",
       "        vertical-align: middle;\n",
       "    }\n",
       "\n",
       "    .dataframe tbody tr th {\n",
       "        vertical-align: top;\n",
       "    }\n",
       "\n",
       "    .dataframe thead th {\n",
       "        text-align: right;\n",
       "    }\n",
       "</style>\n",
       "<table border=\"1\" class=\"dataframe\">\n",
       "  <thead>\n",
       "    <tr style=\"text-align: right;\">\n",
       "      <th></th>\n",
       "      <th>source</th>\n",
       "      <th>target</th>\n",
       "      <th>relationship_type</th>\n",
       "    </tr>\n",
       "  </thead>\n",
       "  <tbody>\n",
       "    <tr>\n",
       "      <th>0</th>\n",
       "      <td>1152</td>\n",
       "      <td>1354</td>\n",
       "      <td>OF_PROJECT</td>\n",
       "    </tr>\n",
       "    <tr>\n",
       "      <th>1</th>\n",
       "      <td>1317</td>\n",
       "      <td>1164</td>\n",
       "      <td>HAS_DATASET</td>\n",
       "    </tr>\n",
       "    <tr>\n",
       "      <th>2</th>\n",
       "      <td>1317</td>\n",
       "      <td>768</td>\n",
       "      <td>HAS_DATASET</td>\n",
       "    </tr>\n",
       "    <tr>\n",
       "      <th>3</th>\n",
       "      <td>1271</td>\n",
       "      <td>23795</td>\n",
       "      <td>HAS_SCIENCEKEYWORD</td>\n",
       "    </tr>\n",
       "    <tr>\n",
       "      <th>4</th>\n",
       "      <td>820</td>\n",
       "      <td>23837</td>\n",
       "      <td>HAS_SCIENCEKEYWORD</td>\n",
       "    </tr>\n",
       "    <tr>\n",
       "      <th>...</th>\n",
       "      <td>...</td>\n",
       "      <td>...</td>\n",
       "      <td>...</td>\n",
       "    </tr>\n",
       "    <tr>\n",
       "      <th>13815</th>\n",
       "      <td>21903</td>\n",
       "      <td>495</td>\n",
       "      <td>USES_DATASET</td>\n",
       "    </tr>\n",
       "    <tr>\n",
       "      <th>13816</th>\n",
       "      <td>1274</td>\n",
       "      <td>23723</td>\n",
       "      <td>HAS_SCIENCEKEYWORD</td>\n",
       "    </tr>\n",
       "    <tr>\n",
       "      <th>13817</th>\n",
       "      <td>12187</td>\n",
       "      <td>1208</td>\n",
       "      <td>USES_DATASET</td>\n",
       "    </tr>\n",
       "    <tr>\n",
       "      <th>13818</th>\n",
       "      <td>302</td>\n",
       "      <td>1373</td>\n",
       "      <td>HAS_PLATFORM</td>\n",
       "    </tr>\n",
       "    <tr>\n",
       "      <th>13819</th>\n",
       "      <td>355</td>\n",
       "      <td>1416</td>\n",
       "      <td>HAS_PLATFORM</td>\n",
       "    </tr>\n",
       "  </tbody>\n",
       "</table>\n",
       "<p>13820 rows × 3 columns</p>\n",
       "</div>"
      ],
      "text/plain": [
       "       source  target   relationship_type\n",
       "0        1152    1354          OF_PROJECT\n",
       "1        1317    1164         HAS_DATASET\n",
       "2        1317     768         HAS_DATASET\n",
       "3        1271   23795  HAS_SCIENCEKEYWORD\n",
       "4         820   23837  HAS_SCIENCEKEYWORD\n",
       "...       ...     ...                 ...\n",
       "13815   21903     495        USES_DATASET\n",
       "13816    1274   23723  HAS_SCIENCEKEYWORD\n",
       "13817   12187    1208        USES_DATASET\n",
       "13818     302    1373        HAS_PLATFORM\n",
       "13819     355    1416        HAS_PLATFORM\n",
       "\n",
       "[13820 rows x 3 columns]"
      ]
     },
     "execution_count": 5,
     "metadata": {},
     "output_type": "execute_result"
    }
   ],
   "source": [
    "edges_df"
   ]
  },
  {
   "cell_type": "code",
   "execution_count": 6,
   "id": "b89f60fd-9b41-4a64-8af9-d6e2d1109acc",
   "metadata": {},
   "outputs": [],
   "source": [
    "# Convert node and edge data to NetworkX graph for compatibility\n",
    "G = nx.Graph()\n",
    "\n",
    "for _, row in nodes_df.iterrows():\n",
    "    G.add_node(row['id'])\n",
    "\n",
    "for _, row in edges_df.iterrows():\n",
    "    G.add_edge(row['source'], row['target'])"
   ]
  },
  {
   "cell_type": "markdown",
   "id": "1dc22b14-8443-472c-b009-7829eb3f3307",
   "metadata": {},
   "source": [
    "# Part 1: Exploring the NASA GES-DISC Dataset"
   ]
  },
  {
   "cell_type": "markdown",
   "id": "d51401e1-7f02-4fd7-9f6e-f6d434e5ffc9",
   "metadata": {},
   "source": [
    "### Finding the different kind of lables in the data "
   ]
  },
  {
   "cell_type": "code",
   "execution_count": 7,
   "id": "cafba5ee-52e5-46ea-95b0-208f7edabef0",
   "metadata": {},
   "outputs": [
    {
     "name": "stdout",
     "output_type": "stream",
     "text": [
      "[\"['Dataset']\" \"['DataCenter']\" \"['Project']\" \"['Platform']\"\n",
      " \"['Instrument']\" \"['Publication']\" \"['ScienceKeyword']\"]\n"
     ]
    }
   ],
   "source": [
    "unique_values = nodes_df['label'].unique()\n",
    "print(unique_values)\n"
   ]
  },
  {
   "cell_type": "code",
   "execution_count": 8,
   "id": "c9f3aef2-ce1a-4b0a-934d-2473707f7b5e",
   "metadata": {},
   "outputs": [],
   "source": [
    "frequency_summary = nodes_df.groupby('label').size().reset_index(name='Frequency')\n"
   ]
  },
  {
   "cell_type": "code",
   "execution_count": 9,
   "id": "4fa58f6e-a415-4ee2-90e7-0d8beaaa3467",
   "metadata": {},
   "outputs": [
    {
     "data": {
      "text/html": [
       "<div>\n",
       "<style scoped>\n",
       "    .dataframe tbody tr th:only-of-type {\n",
       "        vertical-align: middle;\n",
       "    }\n",
       "\n",
       "    .dataframe tbody tr th {\n",
       "        vertical-align: top;\n",
       "    }\n",
       "\n",
       "    .dataframe thead th {\n",
       "        text-align: right;\n",
       "    }\n",
       "</style>\n",
       "<table border=\"1\" class=\"dataframe\">\n",
       "  <thead>\n",
       "    <tr style=\"text-align: right;\">\n",
       "      <th></th>\n",
       "      <th>label</th>\n",
       "      <th>Frequency</th>\n",
       "    </tr>\n",
       "  </thead>\n",
       "  <tbody>\n",
       "    <tr>\n",
       "      <th>0</th>\n",
       "      <td>['DataCenter']</td>\n",
       "      <td>1</td>\n",
       "    </tr>\n",
       "    <tr>\n",
       "      <th>1</th>\n",
       "      <td>['Dataset']</td>\n",
       "      <td>1300</td>\n",
       "    </tr>\n",
       "    <tr>\n",
       "      <th>2</th>\n",
       "      <td>['Instrument']</td>\n",
       "      <td>83</td>\n",
       "    </tr>\n",
       "    <tr>\n",
       "      <th>3</th>\n",
       "      <td>['Platform']</td>\n",
       "      <td>142</td>\n",
       "    </tr>\n",
       "    <tr>\n",
       "      <th>4</th>\n",
       "      <td>['Project']</td>\n",
       "      <td>44</td>\n",
       "    </tr>\n",
       "    <tr>\n",
       "      <th>5</th>\n",
       "      <td>['Publication']</td>\n",
       "      <td>2584</td>\n",
       "    </tr>\n",
       "    <tr>\n",
       "      <th>6</th>\n",
       "      <td>['ScienceKeyword']</td>\n",
       "      <td>1609</td>\n",
       "    </tr>\n",
       "  </tbody>\n",
       "</table>\n",
       "</div>"
      ],
      "text/plain": [
       "                label  Frequency\n",
       "0      ['DataCenter']          1\n",
       "1         ['Dataset']       1300\n",
       "2      ['Instrument']         83\n",
       "3        ['Platform']        142\n",
       "4         ['Project']         44\n",
       "5     ['Publication']       2584\n",
       "6  ['ScienceKeyword']       1609"
      ]
     },
     "execution_count": 9,
     "metadata": {},
     "output_type": "execute_result"
    }
   ],
   "source": [
    "frequency_summary"
   ]
  },
  {
   "cell_type": "markdown",
   "id": "860e4329-c975-4f80-a623-19302834e6c2",
   "metadata": {},
   "source": [
    "### Exploring what kind of nodes are connected to each other"
   ]
  },
  {
   "cell_type": "code",
   "execution_count": 10,
   "id": "adba20f5-6c5f-49c8-9273-76be081f4878",
   "metadata": {},
   "outputs": [],
   "source": [
    "edge_with_labels = edges_df.merge(nodes_df, left_on='source', right_on='id', how='left')\n",
    "edge_with_labels = edge_with_labels.rename(columns={'label': 'source_label'})\n",
    "\n",
    "edge_with_labels = edge_with_labels.drop(columns=['id','properties'])\n",
    "\n",
    "edge_with_labels = edge_with_labels.merge(nodes_df, left_on='target', right_on='id', how='left')\n",
    "edge_with_labels = edge_with_labels.rename(columns={'label': 'target_label'})\n",
    "\n",
    "edge_with_labels = edge_with_labels.drop(columns=['id','properties'])\n"
   ]
  },
  {
   "cell_type": "code",
   "execution_count": 11,
   "id": "3b8651b8-9f37-4b3b-b9a6-2dca87625b18",
   "metadata": {},
   "outputs": [
    {
     "data": {
      "text/html": [
       "<div>\n",
       "<style scoped>\n",
       "    .dataframe tbody tr th:only-of-type {\n",
       "        vertical-align: middle;\n",
       "    }\n",
       "\n",
       "    .dataframe tbody tr th {\n",
       "        vertical-align: top;\n",
       "    }\n",
       "\n",
       "    .dataframe thead th {\n",
       "        text-align: right;\n",
       "    }\n",
       "</style>\n",
       "<table border=\"1\" class=\"dataframe\">\n",
       "  <thead>\n",
       "    <tr style=\"text-align: right;\">\n",
       "      <th></th>\n",
       "      <th>source</th>\n",
       "      <th>target</th>\n",
       "      <th>relationship_type</th>\n",
       "      <th>source_label</th>\n",
       "      <th>target_label</th>\n",
       "    </tr>\n",
       "  </thead>\n",
       "  <tbody>\n",
       "    <tr>\n",
       "      <th>0</th>\n",
       "      <td>1152</td>\n",
       "      <td>1354</td>\n",
       "      <td>OF_PROJECT</td>\n",
       "      <td>['Dataset']</td>\n",
       "      <td>['Project']</td>\n",
       "    </tr>\n",
       "    <tr>\n",
       "      <th>1</th>\n",
       "      <td>1317</td>\n",
       "      <td>1164</td>\n",
       "      <td>HAS_DATASET</td>\n",
       "      <td>['DataCenter']</td>\n",
       "      <td>['Dataset']</td>\n",
       "    </tr>\n",
       "    <tr>\n",
       "      <th>2</th>\n",
       "      <td>1317</td>\n",
       "      <td>768</td>\n",
       "      <td>HAS_DATASET</td>\n",
       "      <td>['DataCenter']</td>\n",
       "      <td>['Dataset']</td>\n",
       "    </tr>\n",
       "    <tr>\n",
       "      <th>3</th>\n",
       "      <td>1271</td>\n",
       "      <td>23795</td>\n",
       "      <td>HAS_SCIENCEKEYWORD</td>\n",
       "      <td>['Dataset']</td>\n",
       "      <td>['ScienceKeyword']</td>\n",
       "    </tr>\n",
       "    <tr>\n",
       "      <th>4</th>\n",
       "      <td>820</td>\n",
       "      <td>23837</td>\n",
       "      <td>HAS_SCIENCEKEYWORD</td>\n",
       "      <td>['Dataset']</td>\n",
       "      <td>['ScienceKeyword']</td>\n",
       "    </tr>\n",
       "    <tr>\n",
       "      <th>...</th>\n",
       "      <td>...</td>\n",
       "      <td>...</td>\n",
       "      <td>...</td>\n",
       "      <td>...</td>\n",
       "      <td>...</td>\n",
       "    </tr>\n",
       "    <tr>\n",
       "      <th>13815</th>\n",
       "      <td>21903</td>\n",
       "      <td>495</td>\n",
       "      <td>USES_DATASET</td>\n",
       "      <td>['Publication']</td>\n",
       "      <td>['Dataset']</td>\n",
       "    </tr>\n",
       "    <tr>\n",
       "      <th>13816</th>\n",
       "      <td>1274</td>\n",
       "      <td>23723</td>\n",
       "      <td>HAS_SCIENCEKEYWORD</td>\n",
       "      <td>['Dataset']</td>\n",
       "      <td>['ScienceKeyword']</td>\n",
       "    </tr>\n",
       "    <tr>\n",
       "      <th>13817</th>\n",
       "      <td>12187</td>\n",
       "      <td>1208</td>\n",
       "      <td>USES_DATASET</td>\n",
       "      <td>['Publication']</td>\n",
       "      <td>['Dataset']</td>\n",
       "    </tr>\n",
       "    <tr>\n",
       "      <th>13818</th>\n",
       "      <td>302</td>\n",
       "      <td>1373</td>\n",
       "      <td>HAS_PLATFORM</td>\n",
       "      <td>['Dataset']</td>\n",
       "      <td>['Platform']</td>\n",
       "    </tr>\n",
       "    <tr>\n",
       "      <th>13819</th>\n",
       "      <td>355</td>\n",
       "      <td>1416</td>\n",
       "      <td>HAS_PLATFORM</td>\n",
       "      <td>['Dataset']</td>\n",
       "      <td>['Platform']</td>\n",
       "    </tr>\n",
       "  </tbody>\n",
       "</table>\n",
       "<p>13820 rows × 5 columns</p>\n",
       "</div>"
      ],
      "text/plain": [
       "       source  target   relationship_type     source_label        target_label\n",
       "0        1152    1354          OF_PROJECT      ['Dataset']         ['Project']\n",
       "1        1317    1164         HAS_DATASET   ['DataCenter']         ['Dataset']\n",
       "2        1317     768         HAS_DATASET   ['DataCenter']         ['Dataset']\n",
       "3        1271   23795  HAS_SCIENCEKEYWORD      ['Dataset']  ['ScienceKeyword']\n",
       "4         820   23837  HAS_SCIENCEKEYWORD      ['Dataset']  ['ScienceKeyword']\n",
       "...       ...     ...                 ...              ...                 ...\n",
       "13815   21903     495        USES_DATASET  ['Publication']         ['Dataset']\n",
       "13816    1274   23723  HAS_SCIENCEKEYWORD      ['Dataset']  ['ScienceKeyword']\n",
       "13817   12187    1208        USES_DATASET  ['Publication']         ['Dataset']\n",
       "13818     302    1373        HAS_PLATFORM      ['Dataset']        ['Platform']\n",
       "13819     355    1416        HAS_PLATFORM      ['Dataset']        ['Platform']\n",
       "\n",
       "[13820 rows x 5 columns]"
      ]
     },
     "execution_count": 11,
     "metadata": {},
     "output_type": "execute_result"
    }
   ],
   "source": [
    "edge_with_labels"
   ]
  },
  {
   "cell_type": "code",
   "execution_count": 12,
   "id": "65f323c0-f580-4834-9648-ff00a51123f0",
   "metadata": {},
   "outputs": [],
   "source": [
    "connection_summary = edge_with_labels.groupby(['source_label', 'relationship_type', 'target_label']).size().reset_index(name='Connection_Count')"
   ]
  },
  {
   "cell_type": "code",
   "execution_count": 13,
   "id": "d320869c-45e6-4f7b-ac02-925ebfb351d4",
   "metadata": {},
   "outputs": [
    {
     "data": {
      "text/html": [
       "<div>\n",
       "<style scoped>\n",
       "    .dataframe tbody tr th:only-of-type {\n",
       "        vertical-align: middle;\n",
       "    }\n",
       "\n",
       "    .dataframe tbody tr th {\n",
       "        vertical-align: top;\n",
       "    }\n",
       "\n",
       "    .dataframe thead th {\n",
       "        text-align: right;\n",
       "    }\n",
       "</style>\n",
       "<table border=\"1\" class=\"dataframe\">\n",
       "  <thead>\n",
       "    <tr style=\"text-align: right;\">\n",
       "      <th></th>\n",
       "      <th>source_label</th>\n",
       "      <th>relationship_type</th>\n",
       "      <th>target_label</th>\n",
       "      <th>Connection_Count</th>\n",
       "    </tr>\n",
       "  </thead>\n",
       "  <tbody>\n",
       "    <tr>\n",
       "      <th>0</th>\n",
       "      <td>['DataCenter']</td>\n",
       "      <td>HAS_DATASET</td>\n",
       "      <td>['Dataset']</td>\n",
       "      <td>1300</td>\n",
       "    </tr>\n",
       "    <tr>\n",
       "      <th>1</th>\n",
       "      <td>['Dataset']</td>\n",
       "      <td>HAS_PLATFORM</td>\n",
       "      <td>['Platform']</td>\n",
       "      <td>1519</td>\n",
       "    </tr>\n",
       "    <tr>\n",
       "      <th>2</th>\n",
       "      <td>['Dataset']</td>\n",
       "      <td>HAS_SCIENCEKEYWORD</td>\n",
       "      <td>['ScienceKeyword']</td>\n",
       "      <td>4015</td>\n",
       "    </tr>\n",
       "    <tr>\n",
       "      <th>3</th>\n",
       "      <td>['Dataset']</td>\n",
       "      <td>OF_PROJECT</td>\n",
       "      <td>['Project']</td>\n",
       "      <td>1325</td>\n",
       "    </tr>\n",
       "    <tr>\n",
       "      <th>4</th>\n",
       "      <td>['Platform']</td>\n",
       "      <td>HAS_INSTRUMENT</td>\n",
       "      <td>['Instrument']</td>\n",
       "      <td>215</td>\n",
       "    </tr>\n",
       "    <tr>\n",
       "      <th>5</th>\n",
       "      <td>['Publication']</td>\n",
       "      <td>USES_DATASET</td>\n",
       "      <td>['Dataset']</td>\n",
       "      <td>3623</td>\n",
       "    </tr>\n",
       "    <tr>\n",
       "      <th>6</th>\n",
       "      <td>['ScienceKeyword']</td>\n",
       "      <td>SUBCATEGORY_OF</td>\n",
       "      <td>['ScienceKeyword']</td>\n",
       "      <td>1823</td>\n",
       "    </tr>\n",
       "  </tbody>\n",
       "</table>\n",
       "</div>"
      ],
      "text/plain": [
       "         source_label   relationship_type        target_label  \\\n",
       "0      ['DataCenter']         HAS_DATASET         ['Dataset']   \n",
       "1         ['Dataset']        HAS_PLATFORM        ['Platform']   \n",
       "2         ['Dataset']  HAS_SCIENCEKEYWORD  ['ScienceKeyword']   \n",
       "3         ['Dataset']          OF_PROJECT         ['Project']   \n",
       "4        ['Platform']      HAS_INSTRUMENT      ['Instrument']   \n",
       "5     ['Publication']        USES_DATASET         ['Dataset']   \n",
       "6  ['ScienceKeyword']      SUBCATEGORY_OF  ['ScienceKeyword']   \n",
       "\n",
       "   Connection_Count  \n",
       "0              1300  \n",
       "1              1519  \n",
       "2              4015  \n",
       "3              1325  \n",
       "4               215  \n",
       "5              3623  \n",
       "6              1823  "
      ]
     },
     "execution_count": 13,
     "metadata": {},
     "output_type": "execute_result"
    }
   ],
   "source": [
    "connection_summary"
   ]
  },
  {
   "cell_type": "markdown",
   "id": "1d377195-2a50-4c27-b665-1426c5ce529a",
   "metadata": {},
   "source": [
    "### Visualizing the graph"
   ]
  },
  {
   "cell_type": "code",
   "execution_count": 14,
   "id": "d31e665d-acf2-4d88-a18e-b5e4713d9996",
   "metadata": {},
   "outputs": [],
   "source": [
    "color_map = {\n",
    "    \"['Dataset']\" : 'red',\n",
    "    \"['DataCenter']\" : 'blue',\n",
    "    \"['Project']\" : 'green',\n",
    "    \"['Platform']\" : 'pink',\n",
    "    \"['Instrument']\" : 'yellow',\n",
    "    \"['Publication']\" : 'orange',\n",
    "    \"['ScienceKeyword']\" : 'black'\n",
    "}"
   ]
  },
  {
   "cell_type": "code",
   "execution_count": 15,
   "id": "1df4476a-0df0-4b53-84b7-d4ae249c44d4",
   "metadata": {},
   "outputs": [],
   "source": [
    "node_colors = [color_map[row['label']] for _, row in nodes_df.iterrows()]"
   ]
  },
  {
   "cell_type": "raw",
   "id": "516e77c0-fce4-4e60-b9e6-dd05a2606e97",
   "metadata": {},
   "source": [
    "import matplotlib.pyplot as plt\n",
    "import networkx as nx\n",
    "import matplotlib.patches as mpatches\n",
    "from tqdm import tqdm\n",
    "\n",
    "# Set up the figure with higher DPI for clarity\n",
    "plt.figure(figsize=(15, 15), dpi=100)\n",
    "\n",
    "# Use Kamada-Kawai layout for better clustering\n",
    "pos = nx.kamada_kawai_layout(G)\n",
    "\n",
    "# Calculate centrality to adjust node sizes\n",
    "centrality = nx.degree_centrality(G)\n",
    "node_sizes = [500 * centrality[node] + 25 for node in G.nodes()]\n",
    "\n",
    "# Iterate through unique colors and categorize nodes by color, with tqdm for progress\n",
    "for category, color in tqdm(color_map.items(), desc=\"Processing Categories\"):\n",
    "    # Find nodes in the current category based on color\n",
    "    nodes_in_category = [node for node, node_color in zip(G.nodes(), node_colors) if node_color == color]\n",
    "\n",
    "    # Draw these nodes with their color and sizes\n",
    "    nx.draw_networkx_nodes(\n",
    "        G,\n",
    "        pos,\n",
    "        nodelist=nodes_in_category,\n",
    "        node_size=[node_sizes[i] for i, node in enumerate(G.nodes()) if node in nodes_in_category],\n",
    "        node_color=color,\n",
    "        label=category  # Label for the legend\n",
    "    )\n",
    "\n",
    "# Draw edges with transparency\n",
    "nx.draw_networkx_edges(\n",
    "    G,\n",
    "    pos,\n",
    "    edge_color=\"gray\",\n",
    "    alpha=0.3,\n",
    "    width=0.5\n",
    ")\n",
    "\n",
    "# Title and legend\n",
    "plt.title(\"NASA GES-DISC Knowledge Graph\", fontsize=15)\n",
    "\n",
    "# Create legend handles for each color category\n",
    "legend_handles = [mpatches.Patch(color=color, label=category) for category, color in color_map.items()]\n",
    "plt.legend(handles=legend_handles, title=\"Categories\", loc=\"best\", fontsize=10)\n",
    "\n",
    "plt.axis('off')  # Turn off the axis for a cleaner look\n",
    "plt.show()\n"
   ]
  },
  {
   "cell_type": "raw",
   "id": "a553640e-dc72-4887-ad2a-3783ea6a841a",
   "metadata": {},
   "source": [
    "import matplotlib.patches as mpatches\n",
    "plt.figure(figsize=(15, 15))\n",
    "pos = nx.spring_layout(G, k=2.5, scale=3)\n",
    "nx.draw(\n",
    "    G,\n",
    "    node_size=25,\n",
    "    node_color=node_colors,\n",
    "    edge_color=\"gray\",\n",
    "    font_size=10,\n",
    "    font_weight=\"bold\"\n",
    ")\n",
    "\n",
    "plt.title(\"NASA GES-DISC knowledge graph\", fontsize=15)\n",
    "\n",
    "legend_handles = [mpatches.Patch(color=color, label=category) for category, color in color_map.items()]\n",
    "plt.legend(handles=legend_handles, title=\"Categories\", loc=\"best\")\n",
    "\n",
    "plt.show()"
   ]
  },
  {
   "attachments": {
    "c2afaae4-01ea-41f6-a896-e0bf2e1bcf7f.jpg": {
     "image/jpeg": "[encoded data removed]"
    }
   },
   "cell_type": "markdown",
   "id": "012aa54f-939c-4269-9ed4-20b4b808bc66",
   "metadata": {},
   "source": [
    "![Graph.jpg](attachment:c2afaae4-01ea-41f6-a896-e0bf2e1bcf7f.jpg)"
   ]
  },
  {
   "cell_type": "markdown",
   "id": "bb3a7bd8-8fdc-4464-928f-305fd2c630e3",
   "metadata": {},
   "source": [
    "# Link Prediction"
   ]
  },
  {
   "cell_type": "markdown",
   "id": "b8a29af0-1e28-4daf-8f44-df26821dba65",
   "metadata": {},
   "source": [
    "## Balseline Method 1 Jaccard Coefficient Approch to Predict Missing links"
   ]
  },
  {
   "cell_type": "code",
   "execution_count": 16,
   "id": "2f1c3d7e-6bf5-4e56-a75f-4b7797a38671",
   "metadata": {},
   "outputs": [],
   "source": [
    "jaccard_predictions = list(nx.jaccard_coefficient(G))"
   ]
  },
  {
   "cell_type": "code",
   "execution_count": 17,
   "id": "095785c2-3098-49a4-ad96-ac2060494891",
   "metadata": {},
   "outputs": [],
   "source": [
    "import pandas as pd\n",
    "\n",
    "# Load the test and validation edges\n",
    "test_df = pd.read_csv('./Data/test_links.csv')\n",
    "validation_df = pd.read_csv('./Data/val_links.csv')"
   ]
  },
  {
   "cell_type": "markdown",
   "id": "2e61618a-2936-4ebf-82a4-b89da04cb8a1",
   "metadata": {},
   "source": [
    "### Test Dataset"
   ]
  },
  {
   "cell_type": "code",
   "execution_count": 18,
   "id": "2692a11b-9989-4ca2-87a5-52fb0b5e5e63",
   "metadata": {},
   "outputs": [],
   "source": [
    "test_edges = set(zip(test_df['source'], test_df['target']))\n",
    "\n",
    "# Get Jaccard scores for test edges only\n",
    "test_jaccard_scores = [(u, v, score) for u, v, score in jaccard_predictions if (u, v) in test_edges or (v, u) in test_edges]"
   ]
  },
  {
   "cell_type": "code",
   "execution_count": 19,
   "id": "6f66ec63-af0e-4ca2-9675-f90332f3401b",
   "metadata": {},
   "outputs": [],
   "source": [
    "# Defining a threshold to make a prediction\n",
    "threshold = 0.001\n",
    "\n",
    "predicted_edges = {(u, v) for u, v, score in test_jaccard_scores if score >= threshold}\n",
    "\n",
    "true_positives = len(predicted_edges & test_edges)\n",
    "false_positives = len(predicted_edges - test_edges)\n",
    "false_negatives = len(test_edges - predicted_edges)\n",
    "\n",
    "jd_test_precision = true_positives / (true_positives + false_positives) if (true_positives + false_positives) > 0 else 0\n",
    "jd_test_recall = true_positives / (true_positives + false_negatives) if (true_positives + false_negatives) > 0 else 0\n",
    "jd_test_f1_score = 2 * (jd_test_precision * jd_test_recall) / (jd_test_precision + jd_test_recall) if (jd_test_precision + jd_test_recall) > 0 else 0\n",
    "jd_test_accuracy = true_positives / (true_positives + false_positives + false_negatives) if (true_positives + false_positives + false_negatives) > 0 else 0"
   ]
  },
  {
   "cell_type": "markdown",
   "id": "5b96b6af-e68a-41f0-8879-75462b41ff31",
   "metadata": {},
   "source": [
    "#### Metrics"
   ]
  },
  {
   "cell_type": "code",
   "execution_count": 20,
   "id": "f77258ef-bd16-4511-ba13-da82b4b36c53",
   "metadata": {},
   "outputs": [
    {
     "name": "stdout",
     "output_type": "stream",
     "text": [
      "Accuracy: 0.70\n",
      "Precision: 1.00\n",
      "Recall: 0.70\n",
      "F1-score: 0.82\n"
     ]
    }
   ],
   "source": [
    "print(f\"Accuracy: {jd_test_accuracy:.2f}\")\n",
    "print(f\"Precision: {jd_test_precision:.2f}\")\n",
    "print(f\"Recall: {jd_test_recall:.2f}\")\n",
    "print(f\"F1-score: {jd_test_f1_score:.2f}\")"
   ]
  },
  {
   "cell_type": "markdown",
   "id": "93bc8be1-eb53-4fa1-9556-568a56eb2d25",
   "metadata": {},
   "source": [
    "### Validation Dataset"
   ]
  },
  {
   "cell_type": "code",
   "execution_count": 21,
   "id": "768c9543-434c-40ec-9ccf-d13c16eec6e5",
   "metadata": {},
   "outputs": [],
   "source": [
    "val_edges = set(zip(validation_df['source'], validation_df['target']))\n",
    "\n",
    "# Get Jaccard scores for test edges only\n",
    "val_jaccard_scores = [(u, v, score) for u, v, score in jaccard_predictions if (u, v) in val_edges or (v, u) in val_edges]"
   ]
  },
  {
   "cell_type": "code",
   "execution_count": 22,
   "id": "e5c2448a-60b0-4b32-b17e-06550fa4b919",
   "metadata": {},
   "outputs": [],
   "source": [
    "# Defining a threshold to make a prediction\n",
    "threshold = 0.001\n",
    "\n",
    "predicted_edges = {(u, v) for u, v, score in val_jaccard_scores if score >= threshold}\n",
    "\n",
    "true_positives = len(predicted_edges & val_edges)\n",
    "false_positives = len(predicted_edges - val_edges)\n",
    "false_negatives = len(val_edges - predicted_edges)\n",
    "\n",
    "jd_val_precision = true_positives / (true_positives + false_positives) if (true_positives + false_positives) > 0 else 0\n",
    "jd_val_recall = true_positives / (true_positives + false_negatives) if (true_positives + false_negatives) > 0 else 0\n",
    "jd_val_f1_score = 2 * (jd_val_precision * jd_val_recall) / (jd_val_precision + jd_val_recall) if (jd_val_precision + jd_val_recall) > 0 else 0\n",
    "jd_val_accuracy = true_positives / (true_positives + false_positives + false_negatives) if (true_positives + false_positives + false_negatives) > 0 else 0"
   ]
  },
  {
   "cell_type": "markdown",
   "id": "6741f167-b86f-49d0-9dc3-0f3b39440c98",
   "metadata": {},
   "source": [
    "#### Metrics"
   ]
  },
  {
   "cell_type": "code",
   "execution_count": 23,
   "id": "72e52d44-320d-4434-b72f-bf0c757a6476",
   "metadata": {},
   "outputs": [
    {
     "name": "stdout",
     "output_type": "stream",
     "text": [
      "Accuracy: 0.71\n",
      "Precision: 1.00\n",
      "Recall: 0.71\n",
      "F1-score: 0.83\n"
     ]
    }
   ],
   "source": [
    "print(f\"Accuracy: {jd_val_accuracy:.2f}\")\n",
    "print(f\"Precision: {jd_val_precision:.2f}\")\n",
    "print(f\"Recall: {jd_val_recall:.2f}\")\n",
    "print(f\"F1-score: {jd_val_f1_score:.2f}\")"
   ]
  },
  {
   "cell_type": "markdown",
   "id": "5d9c08ca-1f82-47f1-8bea-257fdd7f18a1",
   "metadata": {},
   "source": [
    "## Method 2 Embedding-Based Approach: Using Node2Vec to Create Vetor embeddings to prdict missing Links"
   ]
  },
  {
   "cell_type": "code",
   "execution_count": 24,
   "id": "40a2c0f0-d031-4b2b-93b1-2d7179f989ef",
   "metadata": {},
   "outputs": [],
   "source": [
    "#!pip install node2vec"
   ]
  },
  {
   "cell_type": "code",
   "execution_count": 25,
   "id": "db426a4a-37b3-4ffb-b7fd-084d6a6ca02b",
   "metadata": {},
   "outputs": [],
   "source": [
    "import numpy as np\n",
    "from sklearn.model_selection import train_test_split\n",
    "from sklearn.linear_model import LogisticRegression\n",
    "from sklearn.metrics import precision_score, recall_score, f1_score\n",
    "from node2vec import Node2Vec"
   ]
  },
  {
   "cell_type": "code",
   "execution_count": 26,
   "id": "22007ab5-3722-43e0-a75b-dcb9497bdf8b",
   "metadata": {},
   "outputs": [
    {
     "data": {
      "application/vnd.jupyter.widget-view+json": {
       "model_id": "421b0940ebc942b1b6061c57f617c2db",
       "version_major": 2,
       "version_minor": 0
      },
      "text/plain": [
       "Computing transition probabilities:   0%|          | 0/5763 [00:00<?, ?it/s]"
      ]
     },
     "metadata": {},
     "output_type": "display_data"
    },
    {
     "name": "stderr",
     "output_type": "stream",
     "text": [
      "Generating walks (CPU: 2): 100%|██████████| 15/15 [00:26<00:00,  1.74s/it]]\n",
      "Generating walks (CPU: 1): 100%|██████████| 15/15 [00:26<00:00,  1.79s/it]\n",
      "Generating walks (CPU: 4): 100%|██████████| 15/15 [00:25<00:00,  1.72s/it]\n",
      "Generating walks (CPU: 3): 100%|██████████| 15/15 [00:26<00:00,  1.76s/it]\n",
      "Generating walks (CPU: 6): 100%|██████████| 15/15 [00:25<00:00,  1.73s/it]]\n",
      "Generating walks (CPU: 5): 100%|██████████| 15/15 [00:26<00:00,  1.76s/it]\n",
      "Generating walks (CPU: 7): 100%|██████████| 15/15 [00:26<00:00,  1.76s/it]\n",
      "Generating walks (CPU: 8): 100%|██████████| 15/15 [00:26<00:00,  1.77s/it]\n",
      "Generating walks (CPU: 10): 100%|██████████| 15/15 [00:25<00:00,  1.72s/it]\n",
      "Generating walks (CPU: 9): 100%|██████████| 15/15 [00:26<00:00,  1.79s/it]\n"
     ]
    }
   ],
   "source": [
    "# Initialize Node2Vec model with your graph\n",
    "node2vec = Node2Vec(G, dimensions=64, walk_length=35, num_walks=150, workers=10)\n",
    "\n",
    "# Fit model to learn embeddings\n",
    "model = node2vec.fit(window=10, min_count=1, batch_words=4)"
   ]
  },
  {
   "cell_type": "markdown",
   "id": "96b723f5-85bc-4887-801c-9228986b49e3",
   "metadata": {},
   "source": [
    "##### As during Random walks, some nodes may not be visited and therefore will not have embeddings, so avg of all node embeddings is taken as placeholder value"
   ]
  },
  {
   "cell_type": "markdown",
   "id": "602283fb-780f-4725-a93c-6af338695486",
   "metadata": {},
   "source": [
    "### 2.1 Edge Embedding using Hadamard product"
   ]
  },
  {
   "cell_type": "code",
   "execution_count": 27,
   "id": "e428732d-eec0-4c5d-81f1-974eca33c5de",
   "metadata": {},
   "outputs": [],
   "source": [
    "avg_embedding = np.mean([model.wv[node] for node in model.wv.index_to_key], axis=0)\n",
    "\n",
    "def get_edge_features(u, v, model):\n",
    "    emb_u = model.wv[u] if u in model.wv else avg_embedding\n",
    "    emb_v = model.wv[v] if v in model.wv else avg_embedding\n",
    "    return emb_u * emb_v  # Hadamard product\n"
   ]
  },
  {
   "cell_type": "code",
   "execution_count": 28,
   "id": "8c7a1c9c-da60-46dc-98d8-4501b5b5b163",
   "metadata": {},
   "outputs": [],
   "source": [
    "positive_edges = list(G.edges())\n",
    "\n",
    "non_edges = list(nx.non_edges(G))\n",
    "\n",
    "import random\n",
    "random.seed(100)\n",
    "\n",
    "non_edges = list(nx.non_edges(G))\n",
    "negative_edges = random.sample(non_edges, len(positive_edges))\n",
    "\n",
    "positive_edges = [(u, v) for u, v in positive_edges if u in model.wv and v in model.wv]\n",
    "negative_edges = [(u, v) for u, v in negative_edges if u in model.wv and v in model.wv]"
   ]
  },
  {
   "cell_type": "markdown",
   "id": "fa52bf16-56bf-40c5-8d4c-e3609b8d2408",
   "metadata": {},
   "source": [
    "##### Converting data into Target and Features to be inputted into a logistic regression model"
   ]
  },
  {
   "cell_type": "code",
   "execution_count": 29,
   "id": "6ae0b2b1-f9c3-4267-93c3-5d0eee4987e2",
   "metadata": {},
   "outputs": [],
   "source": [
    "X = [get_edge_features(u, v, model) for u, v in positive_edges] + [get_edge_features(u, v, model) for u, v in negative_edges]\n",
    "y = [1] * len(positive_edges) + [0] * len(negative_edges)"
   ]
  },
  {
   "cell_type": "code",
   "execution_count": 30,
   "id": "70fef439-382f-4937-beb5-5a6aeed87be6",
   "metadata": {},
   "outputs": [],
   "source": [
    "X_train, X_test, y_train, y_test = train_test_split(X, y, test_size=0.2, random_state=42)"
   ]
  },
  {
   "cell_type": "markdown",
   "id": "b86789bb-6987-47c7-96c7-4f47e52d745f",
   "metadata": {},
   "source": [
    "##### Only nodes which were visited are taken into consideration when building the model"
   ]
  },
  {
   "cell_type": "markdown",
   "id": "d673681e-8b8c-437d-b3ec-a7f2c14059ec",
   "metadata": {},
   "source": [
    "#### 2.1.1 Logistic Regression"
   ]
  },
  {
   "cell_type": "code",
   "execution_count": 31,
   "id": "e911829d-1f74-4834-a6d2-2c98cf33c6a6",
   "metadata": {},
   "outputs": [
    {
     "data": {
      "text/html": [
       "<style>#sk-container-id-1 {\n",
       "  /* Definition of color scheme common for light and dark mode */\n",
       "  --sklearn-color-text: black;\n",
       "  --sklearn-color-line: gray;\n",
       "  /* Definition of color scheme for unfitted estimators */\n",
       "  --sklearn-color-unfitted-level-0: #fff5e6;\n",
       "  --sklearn-color-unfitted-level-1: #f6e4d2;\n",
       "  --sklearn-color-unfitted-level-2: #ffe0b3;\n",
       "  --sklearn-color-unfitted-level-3: chocolate;\n",
       "  /* Definition of color scheme for fitted estimators */\n",
       "  --sklearn-color-fitted-level-0: #f0f8ff;\n",
       "  --sklearn-color-fitted-level-1: #d4ebff;\n",
       "  --sklearn-color-fitted-level-2: #b3dbfd;\n",
       "  --sklearn-color-fitted-level-3: cornflowerblue;\n",
       "\n",
       "  /* Specific color for light theme */\n",
       "  --sklearn-color-text-on-default-background: var(--sg-text-color, var(--theme-code-foreground, var(--jp-content-font-color1, black)));\n",
       "  --sklearn-color-background: var(--sg-background-color, var(--theme-background, var(--jp-layout-color0, white)));\n",
       "  --sklearn-color-border-box: var(--sg-text-color, var(--theme-code-foreground, var(--jp-content-font-color1, black)));\n",
       "  --sklearn-color-icon: #696969;\n",
       "\n",
       "  @media (prefers-color-scheme: dark) {\n",
       "    /* Redefinition of color scheme for dark theme */\n",
       "    --sklearn-color-text-on-default-background: var(--sg-text-color, var(--theme-code-foreground, var(--jp-content-font-color1, white)));\n",
       "    --sklearn-color-background: var(--sg-background-color, var(--theme-background, var(--jp-layout-color0, #111)));\n",
       "    --sklearn-color-border-box: var(--sg-text-color, var(--theme-code-foreground, var(--jp-content-font-color1, white)));\n",
       "    --sklearn-color-icon: #878787;\n",
       "  }\n",
       "}\n",
       "\n",
       "#sk-container-id-1 {\n",
       "  color: var(--sklearn-color-text);\n",
       "}\n",
       "\n",
       "#sk-container-id-1 pre {\n",
       "  padding: 0;\n",
       "}\n",
       "\n",
       "#sk-container-id-1 input.sk-hidden--visually {\n",
       "  border: 0;\n",
       "  clip: rect(1px 1px 1px 1px);\n",
       "  clip: rect(1px, 1px, 1px, 1px);\n",
       "  height: 1px;\n",
       "  margin: -1px;\n",
       "  overflow: hidden;\n",
       "  padding: 0;\n",
       "  position: absolute;\n",
       "  width: 1px;\n",
       "}\n",
       "\n",
       "#sk-container-id-1 div.sk-dashed-wrapped {\n",
       "  border: 1px dashed var(--sklearn-color-line);\n",
       "  margin: 0 0.4em 0.5em 0.4em;\n",
       "  box-sizing: border-box;\n",
       "  padding-bottom: 0.4em;\n",
       "  background-color: var(--sklearn-color-background);\n",
       "}\n",
       "\n",
       "#sk-container-id-1 div.sk-container {\n",
       "  /* jupyter's `normalize.less` sets `[hidden] { display: none; }`\n",
       "     but bootstrap.min.css set `[hidden] { display: none !important; }`\n",
       "     so we also need the `!important` here to be able to override the\n",
       "     default hidden behavior on the sphinx rendered scikit-learn.org.\n",
       "     See: https://github.com/scikit-learn/scikit-learn/issues/21755 */\n",
       "  display: inline-block !important;\n",
       "  position: relative;\n",
       "}\n",
       "\n",
       "#sk-container-id-1 div.sk-text-repr-fallback {\n",
       "  display: none;\n",
       "}\n",
       "\n",
       "div.sk-parallel-item,\n",
       "div.sk-serial,\n",
       "div.sk-item {\n",
       "  /* draw centered vertical line to link estimators */\n",
       "  background-image: linear-gradient(var(--sklearn-color-text-on-default-background), var(--sklearn-color-text-on-default-background));\n",
       "  background-size: 2px 100%;\n",
       "  background-repeat: no-repeat;\n",
       "  background-position: center center;\n",
       "}\n",
       "\n",
       "/* Parallel-specific style estimator block */\n",
       "\n",
       "#sk-container-id-1 div.sk-parallel-item::after {\n",
       "  content: \"\";\n",
       "  width: 100%;\n",
       "  border-bottom: 2px solid var(--sklearn-color-text-on-default-background);\n",
       "  flex-grow: 1;\n",
       "}\n",
       "\n",
       "#sk-container-id-1 div.sk-parallel {\n",
       "  display: flex;\n",
       "  align-items: stretch;\n",
       "  justify-content: center;\n",
       "  background-color: var(--sklearn-color-background);\n",
       "  position: relative;\n",
       "}\n",
       "\n",
       "#sk-container-id-1 div.sk-parallel-item {\n",
       "  display: flex;\n",
       "  flex-direction: column;\n",
       "}\n",
       "\n",
       "#sk-container-id-1 div.sk-parallel-item:first-child::after {\n",
       "  align-self: flex-end;\n",
       "  width: 50%;\n",
       "}\n",
       "\n",
       "#sk-container-id-1 div.sk-parallel-item:last-child::after {\n",
       "  align-self: flex-start;\n",
       "  width: 50%;\n",
       "}\n",
       "\n",
       "#sk-container-id-1 div.sk-parallel-item:only-child::after {\n",
       "  width: 0;\n",
       "}\n",
       "\n",
       "/* Serial-specific style estimator block */\n",
       "\n",
       "#sk-container-id-1 div.sk-serial {\n",
       "  display: flex;\n",
       "  flex-direction: column;\n",
       "  align-items: center;\n",
       "  background-color: var(--sklearn-color-background);\n",
       "  padding-right: 1em;\n",
       "  padding-left: 1em;\n",
       "}\n",
       "\n",
       "\n",
       "/* Toggleable style: style used for estimator/Pipeline/ColumnTransformer box that is\n",
       "clickable and can be expanded/collapsed.\n",
       "- Pipeline and ColumnTransformer use this feature and define the default style\n",
       "- Estimators will overwrite some part of the style using the `sk-estimator` class\n",
       "*/\n",
       "\n",
       "/* Pipeline and ColumnTransformer style (default) */\n",
       "\n",
       "#sk-container-id-1 div.sk-toggleable {\n",
       "  /* Default theme specific background. It is overwritten whether we have a\n",
       "  specific estimator or a Pipeline/ColumnTransformer */\n",
       "  background-color: var(--sklearn-color-background);\n",
       "}\n",
       "\n",
       "/* Toggleable label */\n",
       "#sk-container-id-1 label.sk-toggleable__label {\n",
       "  cursor: pointer;\n",
       "  display: block;\n",
       "  width: 100%;\n",
       "  margin-bottom: 0;\n",
       "  padding: 0.5em;\n",
       "  box-sizing: border-box;\n",
       "  text-align: center;\n",
       "}\n",
       "\n",
       "#sk-container-id-1 label.sk-toggleable__label-arrow:before {\n",
       "  /* Arrow on the left of the label */\n",
       "  content: \"▸\";\n",
       "  float: left;\n",
       "  margin-right: 0.25em;\n",
       "  color: var(--sklearn-color-icon);\n",
       "}\n",
       "\n",
       "#sk-container-id-1 label.sk-toggleable__label-arrow:hover:before {\n",
       "  color: var(--sklearn-color-text);\n",
       "}\n",
       "\n",
       "/* Toggleable content - dropdown */\n",
       "\n",
       "#sk-container-id-1 div.sk-toggleable__content {\n",
       "  max-height: 0;\n",
       "  max-width: 0;\n",
       "  overflow: hidden;\n",
       "  text-align: left;\n",
       "  /* unfitted */\n",
       "  background-color: var(--sklearn-color-unfitted-level-0);\n",
       "}\n",
       "\n",
       "#sk-container-id-1 div.sk-toggleable__content.fitted {\n",
       "  /* fitted */\n",
       "  background-color: var(--sklearn-color-fitted-level-0);\n",
       "}\n",
       "\n",
       "#sk-container-id-1 div.sk-toggleable__content pre {\n",
       "  margin: 0.2em;\n",
       "  border-radius: 0.25em;\n",
       "  color: var(--sklearn-color-text);\n",
       "  /* unfitted */\n",
       "  background-color: var(--sklearn-color-unfitted-level-0);\n",
       "}\n",
       "\n",
       "#sk-container-id-1 div.sk-toggleable__content.fitted pre {\n",
       "  /* unfitted */\n",
       "  background-color: var(--sklearn-color-fitted-level-0);\n",
       "}\n",
       "\n",
       "#sk-container-id-1 input.sk-toggleable__control:checked~div.sk-toggleable__content {\n",
       "  /* Expand drop-down */\n",
       "  max-height: 200px;\n",
       "  max-width: 100%;\n",
       "  overflow: auto;\n",
       "}\n",
       "\n",
       "#sk-container-id-1 input.sk-toggleable__control:checked~label.sk-toggleable__label-arrow:before {\n",
       "  content: \"▾\";\n",
       "}\n",
       "\n",
       "/* Pipeline/ColumnTransformer-specific style */\n",
       "\n",
       "#sk-container-id-1 div.sk-label input.sk-toggleable__control:checked~label.sk-toggleable__label {\n",
       "  color: var(--sklearn-color-text);\n",
       "  background-color: var(--sklearn-color-unfitted-level-2);\n",
       "}\n",
       "\n",
       "#sk-container-id-1 div.sk-label.fitted input.sk-toggleable__control:checked~label.sk-toggleable__label {\n",
       "  background-color: var(--sklearn-color-fitted-level-2);\n",
       "}\n",
       "\n",
       "/* Estimator-specific style */\n",
       "\n",
       "/* Colorize estimator box */\n",
       "#sk-container-id-1 div.sk-estimator input.sk-toggleable__control:checked~label.sk-toggleable__label {\n",
       "  /* unfitted */\n",
       "  background-color: var(--sklearn-color-unfitted-level-2);\n",
       "}\n",
       "\n",
       "#sk-container-id-1 div.sk-estimator.fitted input.sk-toggleable__control:checked~label.sk-toggleable__label {\n",
       "  /* fitted */\n",
       "  background-color: var(--sklearn-color-fitted-level-2);\n",
       "}\n",
       "\n",
       "#sk-container-id-1 div.sk-label label.sk-toggleable__label,\n",
       "#sk-container-id-1 div.sk-label label {\n",
       "  /* The background is the default theme color */\n",
       "  color: var(--sklearn-color-text-on-default-background);\n",
       "}\n",
       "\n",
       "/* On hover, darken the color of the background */\n",
       "#sk-container-id-1 div.sk-label:hover label.sk-toggleable__label {\n",
       "  color: var(--sklearn-color-text);\n",
       "  background-color: var(--sklearn-color-unfitted-level-2);\n",
       "}\n",
       "\n",
       "/* Label box, darken color on hover, fitted */\n",
       "#sk-container-id-1 div.sk-label.fitted:hover label.sk-toggleable__label.fitted {\n",
       "  color: var(--sklearn-color-text);\n",
       "  background-color: var(--sklearn-color-fitted-level-2);\n",
       "}\n",
       "\n",
       "/* Estimator label */\n",
       "\n",
       "#sk-container-id-1 div.sk-label label {\n",
       "  font-family: monospace;\n",
       "  font-weight: bold;\n",
       "  display: inline-block;\n",
       "  line-height: 1.2em;\n",
       "}\n",
       "\n",
       "#sk-container-id-1 div.sk-label-container {\n",
       "  text-align: center;\n",
       "}\n",
       "\n",
       "/* Estimator-specific */\n",
       "#sk-container-id-1 div.sk-estimator {\n",
       "  font-family: monospace;\n",
       "  border: 1px dotted var(--sklearn-color-border-box);\n",
       "  border-radius: 0.25em;\n",
       "  box-sizing: border-box;\n",
       "  margin-bottom: 0.5em;\n",
       "  /* unfitted */\n",
       "  background-color: var(--sklearn-color-unfitted-level-0);\n",
       "}\n",
       "\n",
       "#sk-container-id-1 div.sk-estimator.fitted {\n",
       "  /* fitted */\n",
       "  background-color: var(--sklearn-color-fitted-level-0);\n",
       "}\n",
       "\n",
       "/* on hover */\n",
       "#sk-container-id-1 div.sk-estimator:hover {\n",
       "  /* unfitted */\n",
       "  background-color: var(--sklearn-color-unfitted-level-2);\n",
       "}\n",
       "\n",
       "#sk-container-id-1 div.sk-estimator.fitted:hover {\n",
       "  /* fitted */\n",
       "  background-color: var(--sklearn-color-fitted-level-2);\n",
       "}\n",
       "\n",
       "/* Specification for estimator info (e.g. \"i\" and \"?\") */\n",
       "\n",
       "/* Common style for \"i\" and \"?\" */\n",
       "\n",
       ".sk-estimator-doc-link,\n",
       "a:link.sk-estimator-doc-link,\n",
       "a:visited.sk-estimator-doc-link {\n",
       "  float: right;\n",
       "  font-size: smaller;\n",
       "  line-height: 1em;\n",
       "  font-family: monospace;\n",
       "  background-color: var(--sklearn-color-background);\n",
       "  border-radius: 1em;\n",
       "  height: 1em;\n",
       "  width: 1em;\n",
       "  text-decoration: none !important;\n",
       "  margin-left: 1ex;\n",
       "  /* unfitted */\n",
       "  border: var(--sklearn-color-unfitted-level-1) 1pt solid;\n",
       "  color: var(--sklearn-color-unfitted-level-1);\n",
       "}\n",
       "\n",
       ".sk-estimator-doc-link.fitted,\n",
       "a:link.sk-estimator-doc-link.fitted,\n",
       "a:visited.sk-estimator-doc-link.fitted {\n",
       "  /* fitted */\n",
       "  border: var(--sklearn-color-fitted-level-1) 1pt solid;\n",
       "  color: var(--sklearn-color-fitted-level-1);\n",
       "}\n",
       "\n",
       "/* On hover */\n",
       "div.sk-estimator:hover .sk-estimator-doc-link:hover,\n",
       ".sk-estimator-doc-link:hover,\n",
       "div.sk-label-container:hover .sk-estimator-doc-link:hover,\n",
       ".sk-estimator-doc-link:hover {\n",
       "  /* unfitted */\n",
       "  background-color: var(--sklearn-color-unfitted-level-3);\n",
       "  color: var(--sklearn-color-background);\n",
       "  text-decoration: none;\n",
       "}\n",
       "\n",
       "div.sk-estimator.fitted:hover .sk-estimator-doc-link.fitted:hover,\n",
       ".sk-estimator-doc-link.fitted:hover,\n",
       "div.sk-label-container:hover .sk-estimator-doc-link.fitted:hover,\n",
       ".sk-estimator-doc-link.fitted:hover {\n",
       "  /* fitted */\n",
       "  background-color: var(--sklearn-color-fitted-level-3);\n",
       "  color: var(--sklearn-color-background);\n",
       "  text-decoration: none;\n",
       "}\n",
       "\n",
       "/* Span, style for the box shown on hovering the info icon */\n",
       ".sk-estimator-doc-link span {\n",
       "  display: none;\n",
       "  z-index: 9999;\n",
       "  position: relative;\n",
       "  font-weight: normal;\n",
       "  right: .2ex;\n",
       "  padding: .5ex;\n",
       "  margin: .5ex;\n",
       "  width: min-content;\n",
       "  min-width: 20ex;\n",
       "  max-width: 50ex;\n",
       "  color: var(--sklearn-color-text);\n",
       "  box-shadow: 2pt 2pt 4pt #999;\n",
       "  /* unfitted */\n",
       "  background: var(--sklearn-color-unfitted-level-0);\n",
       "  border: .5pt solid var(--sklearn-color-unfitted-level-3);\n",
       "}\n",
       "\n",
       ".sk-estimator-doc-link.fitted span {\n",
       "  /* fitted */\n",
       "  background: var(--sklearn-color-fitted-level-0);\n",
       "  border: var(--sklearn-color-fitted-level-3);\n",
       "}\n",
       "\n",
       ".sk-estimator-doc-link:hover span {\n",
       "  display: block;\n",
       "}\n",
       "\n",
       "/* \"?\"-specific style due to the `<a>` HTML tag */\n",
       "\n",
       "#sk-container-id-1 a.estimator_doc_link {\n",
       "  float: right;\n",
       "  font-size: 1rem;\n",
       "  line-height: 1em;\n",
       "  font-family: monospace;\n",
       "  background-color: var(--sklearn-color-background);\n",
       "  border-radius: 1rem;\n",
       "  height: 1rem;\n",
       "  width: 1rem;\n",
       "  text-decoration: none;\n",
       "  /* unfitted */\n",
       "  color: var(--sklearn-color-unfitted-level-1);\n",
       "  border: var(--sklearn-color-unfitted-level-1) 1pt solid;\n",
       "}\n",
       "\n",
       "#sk-container-id-1 a.estimator_doc_link.fitted {\n",
       "  /* fitted */\n",
       "  border: var(--sklearn-color-fitted-level-1) 1pt solid;\n",
       "  color: var(--sklearn-color-fitted-level-1);\n",
       "}\n",
       "\n",
       "/* On hover */\n",
       "#sk-container-id-1 a.estimator_doc_link:hover {\n",
       "  /* unfitted */\n",
       "  background-color: var(--sklearn-color-unfitted-level-3);\n",
       "  color: var(--sklearn-color-background);\n",
       "  text-decoration: none;\n",
       "}\n",
       "\n",
       "#sk-container-id-1 a.estimator_doc_link.fitted:hover {\n",
       "  /* fitted */\n",
       "  background-color: var(--sklearn-color-fitted-level-3);\n",
       "}\n",
       "</style><div id=\"sk-container-id-1\" class=\"sk-top-container\"><div class=\"sk-text-repr-fallback\"><pre>LogisticRegression(max_iter=5000, random_state=0)</pre><b>In a Jupyter environment, please rerun this cell to show the HTML representation or trust the notebook. <br />On GitHub, the HTML representation is unable to render, please try loading this page with nbviewer.org.</b></div><div class=\"sk-container\" hidden><div class=\"sk-item\"><div class=\"sk-estimator fitted sk-toggleable\"><input class=\"sk-toggleable__control sk-hidden--visually\" id=\"sk-estimator-id-1\" type=\"checkbox\" checked><label for=\"sk-estimator-id-1\" class=\"sk-toggleable__label fitted sk-toggleable__label-arrow fitted\">&nbsp;&nbsp;LogisticRegression<a class=\"sk-estimator-doc-link fitted\" rel=\"noreferrer\" target=\"_blank\" href=\"https://scikit-learn.org/1.5/modules/generated/sklearn.linear_model.LogisticRegression.html\">?<span>Documentation for LogisticRegression</span></a><span class=\"sk-estimator-doc-link fitted\">i<span>Fitted</span></span></label><div class=\"sk-toggleable__content fitted\"><pre>LogisticRegression(max_iter=5000, random_state=0)</pre></div> </div></div></div></div>"
      ],
      "text/plain": [
       "LogisticRegression(max_iter=5000, random_state=0)"
      ]
     },
     "execution_count": 31,
     "metadata": {},
     "output_type": "execute_result"
    }
   ],
   "source": [
    "# Initialize and train logistic regression model\n",
    "clf = LogisticRegression(random_state=0, max_iter=5000)\n",
    "clf.fit(X_train, y_train)\n"
   ]
  },
  {
   "cell_type": "code",
   "execution_count": 32,
   "id": "a978861e-54c1-40e9-8817-97be60593966",
   "metadata": {},
   "outputs": [
    {
     "name": "stdout",
     "output_type": "stream",
     "text": [
      "Precision: 0.79\n",
      "Recall: 0.95\n",
      "F1 Score: 0.86\n"
     ]
    }
   ],
   "source": [
    "# Make predictions\n",
    "y_pred = clf.predict(X_test)\n",
    "\n",
    "# Calculate evaluation metrics\n",
    "precision = precision_score(y_test, y_pred)\n",
    "recall = recall_score(y_test, y_pred)\n",
    "f1 = f1_score(y_test, y_pred)\n",
    "\n",
    "print(f\"Precision: {precision:.2f}\")\n",
    "print(f\"Recall: {recall:.2f}\")\n",
    "print(f\"F1 Score: {f1:.2f}\")\n"
   ]
  },
  {
   "cell_type": "markdown",
   "id": "20d075f8-900c-41dd-9e3a-099fd8d115f7",
   "metadata": {},
   "source": [
    "##### Test Data Set"
   ]
  },
  {
   "cell_type": "code",
   "execution_count": 33,
   "id": "48f62884-3b9e-419c-ac8f-55103793e0ea",
   "metadata": {},
   "outputs": [],
   "source": [
    "test_features = [get_edge_features(u, v, model) for u, v in test_edges]\n",
    "test_predictions = clf.predict(test_features)"
   ]
  },
  {
   "cell_type": "code",
   "execution_count": 34,
   "id": "a8db3265-cabf-41f9-a642-30242b8843a1",
   "metadata": {},
   "outputs": [],
   "source": [
    "test_df['label']=1"
   ]
  },
  {
   "cell_type": "code",
   "execution_count": 35,
   "id": "fecc6c76-63e0-4298-ad94-1b8129335d31",
   "metadata": {},
   "outputs": [],
   "source": [
    "# Assuming validation_df['label'] contains the ground truth labels for each edge in the validation set\n",
    "test_labels = test_df['label'].values  # Actual labels for validation edges\n",
    "\n",
    "# Calculate accuracy, precision, recall, and F1-score\n",
    "from sklearn.metrics import accuracy_score, precision_score, recall_score, f1_score\n",
    "\n",
    "n2v_test_accuracy = accuracy_score(test_labels, test_predictions)\n",
    "n2v_test_precision = precision_score(test_labels, test_predictions)\n",
    "n2v_test_recall = recall_score(test_labels, test_predictions)\n",
    "n2v_test_f1 = f1_score(test_labels, test_predictions)"
   ]
  },
  {
   "cell_type": "markdown",
   "id": "7d6c72df-1825-4b81-8d74-19db665a5a59",
   "metadata": {},
   "source": [
    "###### Metrics"
   ]
  },
  {
   "cell_type": "code",
   "execution_count": 36,
   "id": "8ad72717-4dff-4a9e-ba60-99cd4508ffee",
   "metadata": {},
   "outputs": [
    {
     "name": "stdout",
     "output_type": "stream",
     "text": [
      "Accuracy: 0.87\n",
      "Precision: 1.00\n",
      "Recall: 0.87\n",
      "F1 Score: 0.93\n"
     ]
    }
   ],
   "source": [
    "print(f\"Accuracy: {n2v_test_accuracy:.2f}\")\n",
    "print(f\"Precision: {n2v_test_precision:.2f}\")\n",
    "print(f\"Recall: {n2v_test_recall:.2f}\")\n",
    "print(f\"F1 Score: {n2v_test_f1:.2f}\")"
   ]
  },
  {
   "cell_type": "markdown",
   "id": "dbf503eb-63b8-404c-be2b-10c4c607380a",
   "metadata": {},
   "source": [
    "##### Validation Dataset"
   ]
  },
  {
   "cell_type": "code",
   "execution_count": 37,
   "id": "464d6fa9-8e4d-403a-beea-b3e2bba8afca",
   "metadata": {},
   "outputs": [],
   "source": [
    "val_features = [get_edge_features(u, v, model) for u, v in val_edges]\n",
    "val_predictions = clf.predict(val_features)"
   ]
  },
  {
   "cell_type": "code",
   "execution_count": 38,
   "id": "2b5e43ce-7381-4115-876e-a391c6fe93f8",
   "metadata": {},
   "outputs": [],
   "source": [
    "validation_df['label']=1"
   ]
  },
  {
   "cell_type": "code",
   "execution_count": 39,
   "id": "1e2e462a-fc18-4217-9f27-a9b74f6b6fff",
   "metadata": {},
   "outputs": [],
   "source": [
    "val_labels = validation_df['label'].values\n",
    "\n",
    "from sklearn.metrics import accuracy_score, precision_score, recall_score, f1_score\n",
    "\n",
    "n2v_val_accuracy = accuracy_score(val_labels, val_predictions)\n",
    "n2v_val_precision = precision_score(val_labels, val_predictions)\n",
    "n2v_val_recall = recall_score(val_labels, val_predictions)\n",
    "n2v_val_f1 = f1_score(val_labels, val_predictions)"
   ]
  },
  {
   "cell_type": "markdown",
   "id": "e724a952-7117-4c0b-8c20-f5c3418489cf",
   "metadata": {},
   "source": [
    "###### Metrics"
   ]
  },
  {
   "cell_type": "code",
   "execution_count": 40,
   "id": "67a6f685-6650-4163-9db4-48abba0d73da",
   "metadata": {},
   "outputs": [
    {
     "name": "stdout",
     "output_type": "stream",
     "text": [
      "Accuracy: 0.88\n",
      "Precision: 1.00\n",
      "Recall: 0.88\n",
      "F1 Score: 0.94\n"
     ]
    }
   ],
   "source": [
    "print(f\"Accuracy: {n2v_val_accuracy:.2f}\")\n",
    "print(f\"Precision: {n2v_val_precision:.2f}\")\n",
    "print(f\"Recall: {n2v_val_recall:.2f}\")\n",
    "print(f\"F1 Score: {n2v_val_f1:.2f}\")"
   ]
  },
  {
   "cell_type": "markdown",
   "id": "fac37ec3-52a1-431c-842d-266a852b8299",
   "metadata": {},
   "source": [
    "#### 2.1.2 Neural Nets"
   ]
  },
  {
   "cell_type": "code",
   "execution_count": 41,
   "id": "b820708d-316b-4626-bf57-0b6447fd9c83",
   "metadata": {},
   "outputs": [],
   "source": [
    "X = [get_edge_features(u, v, model) for u, v in positive_edges] + [get_edge_features(u, v, model) for u, v in negative_edges]\n",
    "y = [1] * len(positive_edges) + [0] * len(negative_edges)\n"
   ]
  },
  {
   "cell_type": "code",
   "execution_count": 42,
   "id": "cbcca541-98a9-4b69-aac9-f9f06b2fef96",
   "metadata": {},
   "outputs": [],
   "source": [
    "X = np.array(X)\n",
    "y = np.array(y)"
   ]
  },
  {
   "cell_type": "code",
   "execution_count": 43,
   "id": "6cc857ed-08f4-406f-aa40-f49595d46056",
   "metadata": {},
   "outputs": [],
   "source": [
    "X_train, X_test, y_train, y_test = train_test_split(X, y, test_size=0.2, random_state=42)"
   ]
  },
  {
   "cell_type": "code",
   "execution_count": 44,
   "id": "0aadd593-30a7-43e9-a83c-59da3389c05b",
   "metadata": {},
   "outputs": [
    {
     "name": "stderr",
     "output_type": "stream",
     "text": [
      "2024-12-15 22:58:05.696237: I tensorflow/core/util/port.cc:153] oneDNN custom operations are on. You may see slightly different numerical results due to floating-point round-off errors from different computation orders. To turn them off, set the environment variable `TF_ENABLE_ONEDNN_OPTS=0`.\n",
      "2024-12-15 22:58:05.907666: E external/local_xla/xla/stream_executor/cuda/cuda_fft.cc:485] Unable to register cuFFT factory: Attempting to register factory for plugin cuFFT when one has already been registered\n",
      "2024-12-15 22:58:05.980541: E external/local_xla/xla/stream_executor/cuda/cuda_dnn.cc:8454] Unable to register cuDNN factory: Attempting to register factory for plugin cuDNN when one has already been registered\n",
      "2024-12-15 22:58:06.000549: E external/local_xla/xla/stream_executor/cuda/cuda_blas.cc:1452] Unable to register cuBLAS factory: Attempting to register factory for plugin cuBLAS when one has already been registered\n",
      "2024-12-15 22:58:06.134430: I tensorflow/core/platform/cpu_feature_guard.cc:210] This TensorFlow binary is optimized to use available CPU instructions in performance-critical operations.\n",
      "To enable the following instructions: AVX2 AVX_VNNI FMA, in other operations, rebuild TensorFlow with the appropriate compiler flags.\n",
      "2024-12-15 22:58:07.775039: W tensorflow/compiler/tf2tensorrt/utils/py_utils.cc:38] TF-TRT Warning: Could not find TensorRT\n",
      "/home/pvok/.local/lib/python3.10/site-packages/keras/src/layers/core/dense.py:87: UserWarning: Do not pass an `input_shape`/`input_dim` argument to a layer. When using Sequential models, prefer using an `Input(shape)` object as the first layer in the model instead.\n",
      "  super().__init__(activity_regularizer=activity_regularizer, **kwargs)\n",
      "WARNING: All log messages before absl::InitializeLog() is called are written to STDERR\n",
      "I0000 00:00:1734321488.501277    7342 cuda_executor.cc:1001] could not open file to read NUMA node: /sys/bus/pci/devices/0000:01:00.0/numa_node\n",
      "Your kernel may have been built without NUMA support.\n",
      "2024-12-15 22:58:08.514666: W tensorflow/core/common_runtime/gpu/gpu_device.cc:2343] Cannot dlopen some GPU libraries. Please make sure the missing libraries mentioned above are installed properly if you would like to use GPU. Follow the guide at https://www.tensorflow.org/install/gpu for how to download and setup the required libraries for your platform.\n",
      "Skipping registering GPU devices...\n"
     ]
    }
   ],
   "source": [
    "import tensorflow as tf\n",
    "from tensorflow.keras import layers, models\n",
    "\n",
    "# Define the neural network model\n",
    "model_nn = models.Sequential([\n",
    "    layers.Dense(16, activation='relu', input_shape=(X.shape[1],)),\n",
    "    layers.Dense(1, activation='sigmoid')\n",
    "])\n",
    "model_nn.compile(optimizer='adam', loss='binary_crossentropy', metrics=['accuracy'])"
   ]
  },
  {
   "cell_type": "code",
   "execution_count": 45,
   "id": "010f607d-31ed-4e37-9e7f-ec25174297dc",
   "metadata": {},
   "outputs": [
    {
     "name": "stdout",
     "output_type": "stream",
     "text": [
      "Epoch 1/30\n",
      "\u001b[1m134/134\u001b[0m \u001b[32m━━━━━━━━━━━━━━━━━━━━\u001b[0m\u001b[37m\u001b[0m \u001b[1m1s\u001b[0m 1ms/step - accuracy: 0.7499 - loss: 0.6466 - val_accuracy: 0.7353 - val_loss: 0.5694\n",
      "Epoch 2/30\n",
      "\u001b[1m134/134\u001b[0m \u001b[32m━━━━━━━━━━━━━━━━━━━━\u001b[0m\u001b[37m\u001b[0m \u001b[1m0s\u001b[0m 698us/step - accuracy: 0.7454 - loss: 0.5568 - val_accuracy: 0.7381 - val_loss: 0.5397\n",
      "Epoch 3/30\n",
      "\u001b[1m134/134\u001b[0m \u001b[32m━━━━━━━━━━━━━━━━━━━━\u001b[0m\u001b[37m\u001b[0m \u001b[1m0s\u001b[0m 692us/step - accuracy: 0.7540 - loss: 0.5237 - val_accuracy: 0.7465 - val_loss: 0.5267\n",
      "Epoch 4/30\n",
      "\u001b[1m134/134\u001b[0m \u001b[32m━━━━━━━━━━━━━━━━━━━━\u001b[0m\u001b[37m\u001b[0m \u001b[1m0s\u001b[0m 662us/step - accuracy: 0.7441 - loss: 0.5238 - val_accuracy: 0.7493 - val_loss: 0.5210\n",
      "Epoch 5/30\n",
      "\u001b[1m134/134\u001b[0m \u001b[32m━━━━━━━━━━━━━━━━━━━━\u001b[0m\u001b[37m\u001b[0m \u001b[1m0s\u001b[0m 674us/step - accuracy: 0.7704 - loss: 0.4918 - val_accuracy: 0.7502 - val_loss: 0.5163\n",
      "Epoch 6/30\n",
      "\u001b[1m134/134\u001b[0m \u001b[32m━━━━━━━━━━━━━━━━━━━━\u001b[0m\u001b[37m\u001b[0m \u001b[1m0s\u001b[0m 666us/step - accuracy: 0.7729 - loss: 0.4937 - val_accuracy: 0.7502 - val_loss: 0.5141\n",
      "Epoch 7/30\n",
      "\u001b[1m134/134\u001b[0m \u001b[32m━━━━━━━━━━━━━━━━━━━━\u001b[0m\u001b[37m\u001b[0m \u001b[1m0s\u001b[0m 657us/step - accuracy: 0.7689 - loss: 0.4830 - val_accuracy: 0.7446 - val_loss: 0.5120\n",
      "Epoch 8/30\n",
      "\u001b[1m134/134\u001b[0m \u001b[32m━━━━━━━━━━━━━━━━━━━━\u001b[0m\u001b[37m\u001b[0m \u001b[1m0s\u001b[0m 668us/step - accuracy: 0.7924 - loss: 0.4619 - val_accuracy: 0.7474 - val_loss: 0.5100\n",
      "Epoch 9/30\n",
      "\u001b[1m134/134\u001b[0m \u001b[32m━━━━━━━━━━━━━━━━━━━━\u001b[0m\u001b[37m\u001b[0m \u001b[1m0s\u001b[0m 926us/step - accuracy: 0.7779 - loss: 0.4760 - val_accuracy: 0.7456 - val_loss: 0.5086\n",
      "Epoch 10/30\n",
      "\u001b[1m134/134\u001b[0m \u001b[32m━━━━━━━━━━━━━━━━━━━━\u001b[0m\u001b[37m\u001b[0m \u001b[1m0s\u001b[0m 660us/step - accuracy: 0.7820 - loss: 0.4712 - val_accuracy: 0.7465 - val_loss: 0.5087\n",
      "Epoch 11/30\n",
      "\u001b[1m134/134\u001b[0m \u001b[32m━━━━━━━━━━━━━━━━━━━━\u001b[0m\u001b[37m\u001b[0m \u001b[1m0s\u001b[0m 653us/step - accuracy: 0.7761 - loss: 0.4812 - val_accuracy: 0.7465 - val_loss: 0.5068\n",
      "Epoch 12/30\n",
      "\u001b[1m134/134\u001b[0m \u001b[32m━━━━━━━━━━━━━━━━━━━━\u001b[0m\u001b[37m\u001b[0m \u001b[1m0s\u001b[0m 649us/step - accuracy: 0.7791 - loss: 0.4746 - val_accuracy: 0.7465 - val_loss: 0.5064\n",
      "Epoch 13/30\n",
      "\u001b[1m134/134\u001b[0m \u001b[32m━━━━━━━━━━━━━━━━━━━━\u001b[0m\u001b[37m\u001b[0m \u001b[1m0s\u001b[0m 660us/step - accuracy: 0.7956 - loss: 0.4541 - val_accuracy: 0.7456 - val_loss: 0.5049\n",
      "Epoch 14/30\n",
      "\u001b[1m134/134\u001b[0m \u001b[32m━━━━━━━━━━━━━━━━━━━━\u001b[0m\u001b[37m\u001b[0m \u001b[1m0s\u001b[0m 659us/step - accuracy: 0.8018 - loss: 0.4465 - val_accuracy: 0.7465 - val_loss: 0.5038\n",
      "Epoch 15/30\n",
      "\u001b[1m134/134\u001b[0m \u001b[32m━━━━━━━━━━━━━━━━━━━━\u001b[0m\u001b[37m\u001b[0m \u001b[1m0s\u001b[0m 643us/step - accuracy: 0.7974 - loss: 0.4485 - val_accuracy: 0.7446 - val_loss: 0.5027\n",
      "Epoch 16/30\n",
      "\u001b[1m134/134\u001b[0m \u001b[32m━━━━━━━━━━━━━━━━━━━━\u001b[0m\u001b[37m\u001b[0m \u001b[1m0s\u001b[0m 689us/step - accuracy: 0.7895 - loss: 0.4561 - val_accuracy: 0.7465 - val_loss: 0.5025\n",
      "Epoch 17/30\n",
      "\u001b[1m134/134\u001b[0m \u001b[32m━━━━━━━━━━━━━━━━━━━━\u001b[0m\u001b[37m\u001b[0m \u001b[1m0s\u001b[0m 783us/step - accuracy: 0.8041 - loss: 0.4432 - val_accuracy: 0.7456 - val_loss: 0.5014\n",
      "Epoch 18/30\n",
      "\u001b[1m134/134\u001b[0m \u001b[32m━━━━━━━━━━━━━━━━━━━━\u001b[0m\u001b[37m\u001b[0m \u001b[1m0s\u001b[0m 685us/step - accuracy: 0.7858 - loss: 0.4587 - val_accuracy: 0.7474 - val_loss: 0.5014\n",
      "Epoch 19/30\n",
      "\u001b[1m134/134\u001b[0m \u001b[32m━━━━━━━━━━━━━━━━━━━━\u001b[0m\u001b[37m\u001b[0m \u001b[1m0s\u001b[0m 742us/step - accuracy: 0.7945 - loss: 0.4507 - val_accuracy: 0.7493 - val_loss: 0.5012\n",
      "Epoch 20/30\n",
      "\u001b[1m134/134\u001b[0m \u001b[32m━━━━━━━━━━━━━━━━━━━━\u001b[0m\u001b[37m\u001b[0m \u001b[1m0s\u001b[0m 700us/step - accuracy: 0.7937 - loss: 0.4446 - val_accuracy: 0.7493 - val_loss: 0.4994\n",
      "Epoch 21/30\n",
      "\u001b[1m134/134\u001b[0m \u001b[32m━━━━━━━━━━━━━━━━━━━━\u001b[0m\u001b[37m\u001b[0m \u001b[1m0s\u001b[0m 698us/step - accuracy: 0.7992 - loss: 0.4437 - val_accuracy: 0.7446 - val_loss: 0.4986\n",
      "Epoch 22/30\n",
      "\u001b[1m134/134\u001b[0m \u001b[32m━━━━━━━━━━━━━━━━━━━━\u001b[0m\u001b[37m\u001b[0m \u001b[1m0s\u001b[0m 727us/step - accuracy: 0.8044 - loss: 0.4508 - val_accuracy: 0.7474 - val_loss: 0.4979\n",
      "Epoch 23/30\n",
      "\u001b[1m134/134\u001b[0m \u001b[32m━━━━━━━━━━━━━━━━━━━━\u001b[0m\u001b[37m\u001b[0m \u001b[1m0s\u001b[0m 641us/step - accuracy: 0.8072 - loss: 0.4286 - val_accuracy: 0.7512 - val_loss: 0.4974\n",
      "Epoch 24/30\n",
      "\u001b[1m134/134\u001b[0m \u001b[32m━━━━━━━━━━━━━━━━━━━━\u001b[0m\u001b[37m\u001b[0m \u001b[1m0s\u001b[0m 647us/step - accuracy: 0.8011 - loss: 0.4406 - val_accuracy: 0.7484 - val_loss: 0.4970\n",
      "Epoch 25/30\n",
      "\u001b[1m134/134\u001b[0m \u001b[32m━━━━━━━━━━━━━━━━━━━━\u001b[0m\u001b[37m\u001b[0m \u001b[1m0s\u001b[0m 647us/step - accuracy: 0.8094 - loss: 0.4267 - val_accuracy: 0.7474 - val_loss: 0.4961\n",
      "Epoch 26/30\n",
      "\u001b[1m134/134\u001b[0m \u001b[32m━━━━━━━━━━━━━━━━━━━━\u001b[0m\u001b[37m\u001b[0m \u001b[1m0s\u001b[0m 655us/step - accuracy: 0.8092 - loss: 0.4306 - val_accuracy: 0.7521 - val_loss: 0.4956\n",
      "Epoch 27/30\n",
      "\u001b[1m134/134\u001b[0m \u001b[32m━━━━━━━━━━━━━━━━━━━━\u001b[0m\u001b[37m\u001b[0m \u001b[1m0s\u001b[0m 681us/step - accuracy: 0.8027 - loss: 0.4398 - val_accuracy: 0.7512 - val_loss: 0.4957\n",
      "Epoch 28/30\n",
      "\u001b[1m134/134\u001b[0m \u001b[32m━━━━━━━━━━━━━━━━━━━━\u001b[0m\u001b[37m\u001b[0m \u001b[1m0s\u001b[0m 640us/step - accuracy: 0.8160 - loss: 0.4231 - val_accuracy: 0.7549 - val_loss: 0.4944\n",
      "Epoch 29/30\n",
      "\u001b[1m134/134\u001b[0m \u001b[32m━━━━━━━━━━━━━━━━━━━━\u001b[0m\u001b[37m\u001b[0m \u001b[1m0s\u001b[0m 936us/step - accuracy: 0.8123 - loss: 0.4305 - val_accuracy: 0.7493 - val_loss: 0.4944\n",
      "Epoch 30/30\n",
      "\u001b[1m134/134\u001b[0m \u001b[32m━━━━━━━━━━━━━━━━━━━━\u001b[0m\u001b[37m\u001b[0m \u001b[1m0s\u001b[0m 672us/step - accuracy: 0.8132 - loss: 0.4299 - val_accuracy: 0.7558 - val_loss: 0.4935\n"
     ]
    }
   ],
   "source": [
    "# Train the model\n",
    "history = model_nn.fit(X_train, y_train, epochs=30, batch_size=32, validation_split=0.2)"
   ]
  },
  {
   "cell_type": "code",
   "execution_count": 46,
   "id": "8fa188dc-ab75-460c-b202-e13bd2de80c7",
   "metadata": {},
   "outputs": [
    {
     "name": "stdout",
     "output_type": "stream",
     "text": [
      "\u001b[1m42/42\u001b[0m \u001b[32m━━━━━━━━━━━━━━━━━━━━\u001b[0m\u001b[37m\u001b[0m \u001b[1m0s\u001b[0m 635us/step\n"
     ]
    }
   ],
   "source": [
    "test_predictions = model_nn.predict(X_test)\n",
    "test_predictions = (test_predictions > 0.5).astype(int)"
   ]
  },
  {
   "cell_type": "code",
   "execution_count": 47,
   "id": "fb294dc1-2eac-4178-b4af-dce7ee788fb3",
   "metadata": {},
   "outputs": [
    {
     "name": "stdout",
     "output_type": "stream",
     "text": [
      "\u001b[1m42/42\u001b[0m \u001b[32m━━━━━━━━━━━━━━━━━━━━\u001b[0m\u001b[37m\u001b[0m \u001b[1m0s\u001b[0m 432us/step - accuracy: 0.7727 - loss: 0.4834\n",
      "Test Accuracy: 0.78\n",
      "Test Precision: 0.81\n",
      "Test Recall: 0.92\n",
      "Test F1 Score: 0.86\n"
     ]
    }
   ],
   "source": [
    "from sklearn.metrics import precision_score, recall_score, f1_score\n",
    "\n",
    "# Calculate metrics\n",
    "test_precision = precision_score(y_test, test_predictions)\n",
    "test_recall = recall_score(y_test, test_predictions)\n",
    "test_f1 = f1_score(y_test, test_predictions)\n",
    "\n",
    "# Print results\n",
    "test_loss, test_accuracy = model_nn.evaluate(X_test, y_test)\n",
    "print(f\"Test Accuracy: {test_accuracy:.2f}\")\n",
    "print(f\"Test Precision: {test_precision:.2f}\")\n",
    "print(f\"Test Recall: {test_recall:.2f}\")\n",
    "print(f\"Test F1 Score: {test_f1:.2f}\")"
   ]
  },
  {
   "cell_type": "markdown",
   "id": "007ece26-2057-4ce1-9164-25ebb41233e6",
   "metadata": {},
   "source": [
    "##### Test Data"
   ]
  },
  {
   "cell_type": "code",
   "execution_count": 48,
   "id": "a77f6cc3-e64c-4e16-9e60-6b7bfe2cc5bc",
   "metadata": {},
   "outputs": [
    {
     "name": "stdout",
     "output_type": "stream",
     "text": [
      "\u001b[1m27/27\u001b[0m \u001b[32m━━━━━━━━━━━━━━━━━━━━\u001b[0m\u001b[37m\u001b[0m \u001b[1m0s\u001b[0m 456us/step\n"
     ]
    }
   ],
   "source": [
    "test_features = [get_edge_features(u, v, model) for u, v in test_edges]\n",
    "test_predictions = model_nn.predict(np.array(test_features))\n",
    "test_predictions = (test_predictions > 0.5).astype(int)"
   ]
  },
  {
   "cell_type": "code",
   "execution_count": 49,
   "id": "55d1e850-cac1-4e22-b73d-970b72519732",
   "metadata": {},
   "outputs": [
    {
     "name": "stdout",
     "output_type": "stream",
     "text": [
      "Accuracy: 0.71\n",
      "Precision: 1.00\n",
      "Recall: 0.71\n",
      "F1 Score: 0.83\n"
     ]
    }
   ],
   "source": [
    "nn_test_accuracy = accuracy_score(test_labels, test_predictions)\n",
    "nn_test_precision = precision_score(test_labels, test_predictions)\n",
    "nn_test_recall = recall_score(test_labels, test_predictions)\n",
    "nn_test_f1 = f1_score(test_labels, test_predictions)\n",
    "\n",
    "print(f\"Accuracy: {nn_test_accuracy:.2f}\")\n",
    "print(f\"Precision: {nn_test_precision:.2f}\")\n",
    "print(f\"Recall: {nn_test_recall:.2f}\")\n",
    "print(f\"F1 Score: {nn_test_f1:.2f}\")"
   ]
  },
  {
   "cell_type": "markdown",
   "id": "d60081cb-8886-4ebf-9a25-eeef42e8f244",
   "metadata": {},
   "source": [
    "##### Validation Data"
   ]
  },
  {
   "cell_type": "code",
   "execution_count": 50,
   "id": "86a80cc6-ee2d-42c2-9fbd-a4b3d8061c99",
   "metadata": {},
   "outputs": [
    {
     "name": "stdout",
     "output_type": "stream",
     "text": [
      "\u001b[1m27/27\u001b[0m \u001b[32m━━━━━━━━━━━━━━━━━━━━\u001b[0m\u001b[37m\u001b[0m \u001b[1m0s\u001b[0m 463us/step\n"
     ]
    }
   ],
   "source": [
    "val_features = [get_edge_features(u, v, model) for u, v in val_edges]\n",
    "validation_predictions = model_nn.predict(np.array(val_features))\n",
    "validation_predictions = (validation_predictions > 0.5).astype(int)"
   ]
  },
  {
   "cell_type": "code",
   "execution_count": 51,
   "id": "91d3d404-9db3-4278-b874-700c279fa3ef",
   "metadata": {},
   "outputs": [
    {
     "name": "stdout",
     "output_type": "stream",
     "text": [
      "Accuracy: 0.88\n",
      "Precision: 1.00\n",
      "Recall: 0.88\n",
      "F1 Score: 0.94\n"
     ]
    }
   ],
   "source": [
    "nn_val_accuracy = accuracy_score(val_labels, val_predictions)\n",
    "nn_val_precision = precision_score(val_labels, val_predictions)\n",
    "nn_val_recall = recall_score(val_labels, val_predictions)\n",
    "nn_val_f1 = f1_score(val_labels, val_predictions)\n",
    "\n",
    "print(f\"Accuracy: {nn_val_accuracy:.2f}\")\n",
    "print(f\"Precision: {nn_val_precision:.2f}\")\n",
    "print(f\"Recall: {nn_val_recall:.2f}\")\n",
    "print(f\"F1 Score: {nn_val_f1:.2f}\")"
   ]
  },
  {
   "cell_type": "markdown",
   "id": "efc733b7-58b1-493a-bf90-6e5a119911b4",
   "metadata": {},
   "source": [
    "### 2.2 Alternate Approach by using the Node embeddings as is"
   ]
  },
  {
   "cell_type": "code",
   "execution_count": 52,
   "id": "92c2b850-f41b-41e6-8099-f92154d5520d",
   "metadata": {},
   "outputs": [],
   "source": [
    "avg_embedding = np.mean([model.wv[node] for node in model.wv.index_to_key], axis=0)\n",
    "\n",
    "def get_edge_features2(u, v, model):\n",
    "    emb_u = model.wv[u] if u in model.wv else avg_embedding\n",
    "    emb_v = model.wv[v] if v in model.wv else avg_embedding\n",
    "    merged_embedding = np.concatenate((emb_u, emb_v))\n",
    "    \n",
    "    return merged_embedding"
   ]
  },
  {
   "cell_type": "code",
   "execution_count": 53,
   "id": "037ed173-df05-41f1-b87c-9429b3a340b5",
   "metadata": {},
   "outputs": [],
   "source": [
    "X = [get_edge_features2(u, v, model) for u, v in positive_edges] + [get_edge_features2(u, v, model) for u, v in negative_edges]"
   ]
  },
  {
   "cell_type": "markdown",
   "id": "6ebd581d-68fb-426d-9ddc-d0e0a2a06f5e",
   "metadata": {},
   "source": [
    "#### 2.2.1 Logistic Regression"
   ]
  },
  {
   "cell_type": "code",
   "execution_count": 54,
   "id": "d01424ca-d166-48ca-8ef8-600b677a2727",
   "metadata": {},
   "outputs": [],
   "source": [
    "y = [1] * len(positive_edges) + [0] * len(negative_edges)\n",
    "X_train, X_test, y_train, y_test = train_test_split(X, y, test_size=0.2, random_state=42)"
   ]
  },
  {
   "cell_type": "code",
   "execution_count": 55,
   "id": "a841e49d-04ed-468b-b2fe-f687d7d87657",
   "metadata": {},
   "outputs": [
    {
     "data": {
      "text/html": [
       "<style>#sk-container-id-2 {\n",
       "  /* Definition of color scheme common for light and dark mode */\n",
       "  --sklearn-color-text: black;\n",
       "  --sklearn-color-line: gray;\n",
       "  /* Definition of color scheme for unfitted estimators */\n",
       "  --sklearn-color-unfitted-level-0: #fff5e6;\n",
       "  --sklearn-color-unfitted-level-1: #f6e4d2;\n",
       "  --sklearn-color-unfitted-level-2: #ffe0b3;\n",
       "  --sklearn-color-unfitted-level-3: chocolate;\n",
       "  /* Definition of color scheme for fitted estimators */\n",
       "  --sklearn-color-fitted-level-0: #f0f8ff;\n",
       "  --sklearn-color-fitted-level-1: #d4ebff;\n",
       "  --sklearn-color-fitted-level-2: #b3dbfd;\n",
       "  --sklearn-color-fitted-level-3: cornflowerblue;\n",
       "\n",
       "  /* Specific color for light theme */\n",
       "  --sklearn-color-text-on-default-background: var(--sg-text-color, var(--theme-code-foreground, var(--jp-content-font-color1, black)));\n",
       "  --sklearn-color-background: var(--sg-background-color, var(--theme-background, var(--jp-layout-color0, white)));\n",
       "  --sklearn-color-border-box: var(--sg-text-color, var(--theme-code-foreground, var(--jp-content-font-color1, black)));\n",
       "  --sklearn-color-icon: #696969;\n",
       "\n",
       "  @media (prefers-color-scheme: dark) {\n",
       "    /* Redefinition of color scheme for dark theme */\n",
       "    --sklearn-color-text-on-default-background: var(--sg-text-color, var(--theme-code-foreground, var(--jp-content-font-color1, white)));\n",
       "    --sklearn-color-background: var(--sg-background-color, var(--theme-background, var(--jp-layout-color0, #111)));\n",
       "    --sklearn-color-border-box: var(--sg-text-color, var(--theme-code-foreground, var(--jp-content-font-color1, white)));\n",
       "    --sklearn-color-icon: #878787;\n",
       "  }\n",
       "}\n",
       "\n",
       "#sk-container-id-2 {\n",
       "  color: var(--sklearn-color-text);\n",
       "}\n",
       "\n",
       "#sk-container-id-2 pre {\n",
       "  padding: 0;\n",
       "}\n",
       "\n",
       "#sk-container-id-2 input.sk-hidden--visually {\n",
       "  border: 0;\n",
       "  clip: rect(1px 1px 1px 1px);\n",
       "  clip: rect(1px, 1px, 1px, 1px);\n",
       "  height: 1px;\n",
       "  margin: -1px;\n",
       "  overflow: hidden;\n",
       "  padding: 0;\n",
       "  position: absolute;\n",
       "  width: 1px;\n",
       "}\n",
       "\n",
       "#sk-container-id-2 div.sk-dashed-wrapped {\n",
       "  border: 1px dashed var(--sklearn-color-line);\n",
       "  margin: 0 0.4em 0.5em 0.4em;\n",
       "  box-sizing: border-box;\n",
       "  padding-bottom: 0.4em;\n",
       "  background-color: var(--sklearn-color-background);\n",
       "}\n",
       "\n",
       "#sk-container-id-2 div.sk-container {\n",
       "  /* jupyter's `normalize.less` sets `[hidden] { display: none; }`\n",
       "     but bootstrap.min.css set `[hidden] { display: none !important; }`\n",
       "     so we also need the `!important` here to be able to override the\n",
       "     default hidden behavior on the sphinx rendered scikit-learn.org.\n",
       "     See: https://github.com/scikit-learn/scikit-learn/issues/21755 */\n",
       "  display: inline-block !important;\n",
       "  position: relative;\n",
       "}\n",
       "\n",
       "#sk-container-id-2 div.sk-text-repr-fallback {\n",
       "  display: none;\n",
       "}\n",
       "\n",
       "div.sk-parallel-item,\n",
       "div.sk-serial,\n",
       "div.sk-item {\n",
       "  /* draw centered vertical line to link estimators */\n",
       "  background-image: linear-gradient(var(--sklearn-color-text-on-default-background), var(--sklearn-color-text-on-default-background));\n",
       "  background-size: 2px 100%;\n",
       "  background-repeat: no-repeat;\n",
       "  background-position: center center;\n",
       "}\n",
       "\n",
       "/* Parallel-specific style estimator block */\n",
       "\n",
       "#sk-container-id-2 div.sk-parallel-item::after {\n",
       "  content: \"\";\n",
       "  width: 100%;\n",
       "  border-bottom: 2px solid var(--sklearn-color-text-on-default-background);\n",
       "  flex-grow: 1;\n",
       "}\n",
       "\n",
       "#sk-container-id-2 div.sk-parallel {\n",
       "  display: flex;\n",
       "  align-items: stretch;\n",
       "  justify-content: center;\n",
       "  background-color: var(--sklearn-color-background);\n",
       "  position: relative;\n",
       "}\n",
       "\n",
       "#sk-container-id-2 div.sk-parallel-item {\n",
       "  display: flex;\n",
       "  flex-direction: column;\n",
       "}\n",
       "\n",
       "#sk-container-id-2 div.sk-parallel-item:first-child::after {\n",
       "  align-self: flex-end;\n",
       "  width: 50%;\n",
       "}\n",
       "\n",
       "#sk-container-id-2 div.sk-parallel-item:last-child::after {\n",
       "  align-self: flex-start;\n",
       "  width: 50%;\n",
       "}\n",
       "\n",
       "#sk-container-id-2 div.sk-parallel-item:only-child::after {\n",
       "  width: 0;\n",
       "}\n",
       "\n",
       "/* Serial-specific style estimator block */\n",
       "\n",
       "#sk-container-id-2 div.sk-serial {\n",
       "  display: flex;\n",
       "  flex-direction: column;\n",
       "  align-items: center;\n",
       "  background-color: var(--sklearn-color-background);\n",
       "  padding-right: 1em;\n",
       "  padding-left: 1em;\n",
       "}\n",
       "\n",
       "\n",
       "/* Toggleable style: style used for estimator/Pipeline/ColumnTransformer box that is\n",
       "clickable and can be expanded/collapsed.\n",
       "- Pipeline and ColumnTransformer use this feature and define the default style\n",
       "- Estimators will overwrite some part of the style using the `sk-estimator` class\n",
       "*/\n",
       "\n",
       "/* Pipeline and ColumnTransformer style (default) */\n",
       "\n",
       "#sk-container-id-2 div.sk-toggleable {\n",
       "  /* Default theme specific background. It is overwritten whether we have a\n",
       "  specific estimator or a Pipeline/ColumnTransformer */\n",
       "  background-color: var(--sklearn-color-background);\n",
       "}\n",
       "\n",
       "/* Toggleable label */\n",
       "#sk-container-id-2 label.sk-toggleable__label {\n",
       "  cursor: pointer;\n",
       "  display: block;\n",
       "  width: 100%;\n",
       "  margin-bottom: 0;\n",
       "  padding: 0.5em;\n",
       "  box-sizing: border-box;\n",
       "  text-align: center;\n",
       "}\n",
       "\n",
       "#sk-container-id-2 label.sk-toggleable__label-arrow:before {\n",
       "  /* Arrow on the left of the label */\n",
       "  content: \"▸\";\n",
       "  float: left;\n",
       "  margin-right: 0.25em;\n",
       "  color: var(--sklearn-color-icon);\n",
       "}\n",
       "\n",
       "#sk-container-id-2 label.sk-toggleable__label-arrow:hover:before {\n",
       "  color: var(--sklearn-color-text);\n",
       "}\n",
       "\n",
       "/* Toggleable content - dropdown */\n",
       "\n",
       "#sk-container-id-2 div.sk-toggleable__content {\n",
       "  max-height: 0;\n",
       "  max-width: 0;\n",
       "  overflow: hidden;\n",
       "  text-align: left;\n",
       "  /* unfitted */\n",
       "  background-color: var(--sklearn-color-unfitted-level-0);\n",
       "}\n",
       "\n",
       "#sk-container-id-2 div.sk-toggleable__content.fitted {\n",
       "  /* fitted */\n",
       "  background-color: var(--sklearn-color-fitted-level-0);\n",
       "}\n",
       "\n",
       "#sk-container-id-2 div.sk-toggleable__content pre {\n",
       "  margin: 0.2em;\n",
       "  border-radius: 0.25em;\n",
       "  color: var(--sklearn-color-text);\n",
       "  /* unfitted */\n",
       "  background-color: var(--sklearn-color-unfitted-level-0);\n",
       "}\n",
       "\n",
       "#sk-container-id-2 div.sk-toggleable__content.fitted pre {\n",
       "  /* unfitted */\n",
       "  background-color: var(--sklearn-color-fitted-level-0);\n",
       "}\n",
       "\n",
       "#sk-container-id-2 input.sk-toggleable__control:checked~div.sk-toggleable__content {\n",
       "  /* Expand drop-down */\n",
       "  max-height: 200px;\n",
       "  max-width: 100%;\n",
       "  overflow: auto;\n",
       "}\n",
       "\n",
       "#sk-container-id-2 input.sk-toggleable__control:checked~label.sk-toggleable__label-arrow:before {\n",
       "  content: \"▾\";\n",
       "}\n",
       "\n",
       "/* Pipeline/ColumnTransformer-specific style */\n",
       "\n",
       "#sk-container-id-2 div.sk-label input.sk-toggleable__control:checked~label.sk-toggleable__label {\n",
       "  color: var(--sklearn-color-text);\n",
       "  background-color: var(--sklearn-color-unfitted-level-2);\n",
       "}\n",
       "\n",
       "#sk-container-id-2 div.sk-label.fitted input.sk-toggleable__control:checked~label.sk-toggleable__label {\n",
       "  background-color: var(--sklearn-color-fitted-level-2);\n",
       "}\n",
       "\n",
       "/* Estimator-specific style */\n",
       "\n",
       "/* Colorize estimator box */\n",
       "#sk-container-id-2 div.sk-estimator input.sk-toggleable__control:checked~label.sk-toggleable__label {\n",
       "  /* unfitted */\n",
       "  background-color: var(--sklearn-color-unfitted-level-2);\n",
       "}\n",
       "\n",
       "#sk-container-id-2 div.sk-estimator.fitted input.sk-toggleable__control:checked~label.sk-toggleable__label {\n",
       "  /* fitted */\n",
       "  background-color: var(--sklearn-color-fitted-level-2);\n",
       "}\n",
       "\n",
       "#sk-container-id-2 div.sk-label label.sk-toggleable__label,\n",
       "#sk-container-id-2 div.sk-label label {\n",
       "  /* The background is the default theme color */\n",
       "  color: var(--sklearn-color-text-on-default-background);\n",
       "}\n",
       "\n",
       "/* On hover, darken the color of the background */\n",
       "#sk-container-id-2 div.sk-label:hover label.sk-toggleable__label {\n",
       "  color: var(--sklearn-color-text);\n",
       "  background-color: var(--sklearn-color-unfitted-level-2);\n",
       "}\n",
       "\n",
       "/* Label box, darken color on hover, fitted */\n",
       "#sk-container-id-2 div.sk-label.fitted:hover label.sk-toggleable__label.fitted {\n",
       "  color: var(--sklearn-color-text);\n",
       "  background-color: var(--sklearn-color-fitted-level-2);\n",
       "}\n",
       "\n",
       "/* Estimator label */\n",
       "\n",
       "#sk-container-id-2 div.sk-label label {\n",
       "  font-family: monospace;\n",
       "  font-weight: bold;\n",
       "  display: inline-block;\n",
       "  line-height: 1.2em;\n",
       "}\n",
       "\n",
       "#sk-container-id-2 div.sk-label-container {\n",
       "  text-align: center;\n",
       "}\n",
       "\n",
       "/* Estimator-specific */\n",
       "#sk-container-id-2 div.sk-estimator {\n",
       "  font-family: monospace;\n",
       "  border: 1px dotted var(--sklearn-color-border-box);\n",
       "  border-radius: 0.25em;\n",
       "  box-sizing: border-box;\n",
       "  margin-bottom: 0.5em;\n",
       "  /* unfitted */\n",
       "  background-color: var(--sklearn-color-unfitted-level-0);\n",
       "}\n",
       "\n",
       "#sk-container-id-2 div.sk-estimator.fitted {\n",
       "  /* fitted */\n",
       "  background-color: var(--sklearn-color-fitted-level-0);\n",
       "}\n",
       "\n",
       "/* on hover */\n",
       "#sk-container-id-2 div.sk-estimator:hover {\n",
       "  /* unfitted */\n",
       "  background-color: var(--sklearn-color-unfitted-level-2);\n",
       "}\n",
       "\n",
       "#sk-container-id-2 div.sk-estimator.fitted:hover {\n",
       "  /* fitted */\n",
       "  background-color: var(--sklearn-color-fitted-level-2);\n",
       "}\n",
       "\n",
       "/* Specification for estimator info (e.g. \"i\" and \"?\") */\n",
       "\n",
       "/* Common style for \"i\" and \"?\" */\n",
       "\n",
       ".sk-estimator-doc-link,\n",
       "a:link.sk-estimator-doc-link,\n",
       "a:visited.sk-estimator-doc-link {\n",
       "  float: right;\n",
       "  font-size: smaller;\n",
       "  line-height: 1em;\n",
       "  font-family: monospace;\n",
       "  background-color: var(--sklearn-color-background);\n",
       "  border-radius: 1em;\n",
       "  height: 1em;\n",
       "  width: 1em;\n",
       "  text-decoration: none !important;\n",
       "  margin-left: 1ex;\n",
       "  /* unfitted */\n",
       "  border: var(--sklearn-color-unfitted-level-1) 1pt solid;\n",
       "  color: var(--sklearn-color-unfitted-level-1);\n",
       "}\n",
       "\n",
       ".sk-estimator-doc-link.fitted,\n",
       "a:link.sk-estimator-doc-link.fitted,\n",
       "a:visited.sk-estimator-doc-link.fitted {\n",
       "  /* fitted */\n",
       "  border: var(--sklearn-color-fitted-level-1) 1pt solid;\n",
       "  color: var(--sklearn-color-fitted-level-1);\n",
       "}\n",
       "\n",
       "/* On hover */\n",
       "div.sk-estimator:hover .sk-estimator-doc-link:hover,\n",
       ".sk-estimator-doc-link:hover,\n",
       "div.sk-label-container:hover .sk-estimator-doc-link:hover,\n",
       ".sk-estimator-doc-link:hover {\n",
       "  /* unfitted */\n",
       "  background-color: var(--sklearn-color-unfitted-level-3);\n",
       "  color: var(--sklearn-color-background);\n",
       "  text-decoration: none;\n",
       "}\n",
       "\n",
       "div.sk-estimator.fitted:hover .sk-estimator-doc-link.fitted:hover,\n",
       ".sk-estimator-doc-link.fitted:hover,\n",
       "div.sk-label-container:hover .sk-estimator-doc-link.fitted:hover,\n",
       ".sk-estimator-doc-link.fitted:hover {\n",
       "  /* fitted */\n",
       "  background-color: var(--sklearn-color-fitted-level-3);\n",
       "  color: var(--sklearn-color-background);\n",
       "  text-decoration: none;\n",
       "}\n",
       "\n",
       "/* Span, style for the box shown on hovering the info icon */\n",
       ".sk-estimator-doc-link span {\n",
       "  display: none;\n",
       "  z-index: 9999;\n",
       "  position: relative;\n",
       "  font-weight: normal;\n",
       "  right: .2ex;\n",
       "  padding: .5ex;\n",
       "  margin: .5ex;\n",
       "  width: min-content;\n",
       "  min-width: 20ex;\n",
       "  max-width: 50ex;\n",
       "  color: var(--sklearn-color-text);\n",
       "  box-shadow: 2pt 2pt 4pt #999;\n",
       "  /* unfitted */\n",
       "  background: var(--sklearn-color-unfitted-level-0);\n",
       "  border: .5pt solid var(--sklearn-color-unfitted-level-3);\n",
       "}\n",
       "\n",
       ".sk-estimator-doc-link.fitted span {\n",
       "  /* fitted */\n",
       "  background: var(--sklearn-color-fitted-level-0);\n",
       "  border: var(--sklearn-color-fitted-level-3);\n",
       "}\n",
       "\n",
       ".sk-estimator-doc-link:hover span {\n",
       "  display: block;\n",
       "}\n",
       "\n",
       "/* \"?\"-specific style due to the `<a>` HTML tag */\n",
       "\n",
       "#sk-container-id-2 a.estimator_doc_link {\n",
       "  float: right;\n",
       "  font-size: 1rem;\n",
       "  line-height: 1em;\n",
       "  font-family: monospace;\n",
       "  background-color: var(--sklearn-color-background);\n",
       "  border-radius: 1rem;\n",
       "  height: 1rem;\n",
       "  width: 1rem;\n",
       "  text-decoration: none;\n",
       "  /* unfitted */\n",
       "  color: var(--sklearn-color-unfitted-level-1);\n",
       "  border: var(--sklearn-color-unfitted-level-1) 1pt solid;\n",
       "}\n",
       "\n",
       "#sk-container-id-2 a.estimator_doc_link.fitted {\n",
       "  /* fitted */\n",
       "  border: var(--sklearn-color-fitted-level-1) 1pt solid;\n",
       "  color: var(--sklearn-color-fitted-level-1);\n",
       "}\n",
       "\n",
       "/* On hover */\n",
       "#sk-container-id-2 a.estimator_doc_link:hover {\n",
       "  /* unfitted */\n",
       "  background-color: var(--sklearn-color-unfitted-level-3);\n",
       "  color: var(--sklearn-color-background);\n",
       "  text-decoration: none;\n",
       "}\n",
       "\n",
       "#sk-container-id-2 a.estimator_doc_link.fitted:hover {\n",
       "  /* fitted */\n",
       "  background-color: var(--sklearn-color-fitted-level-3);\n",
       "}\n",
       "</style><div id=\"sk-container-id-2\" class=\"sk-top-container\"><div class=\"sk-text-repr-fallback\"><pre>LogisticRegression(max_iter=5000, random_state=0)</pre><b>In a Jupyter environment, please rerun this cell to show the HTML representation or trust the notebook. <br />On GitHub, the HTML representation is unable to render, please try loading this page with nbviewer.org.</b></div><div class=\"sk-container\" hidden><div class=\"sk-item\"><div class=\"sk-estimator fitted sk-toggleable\"><input class=\"sk-toggleable__control sk-hidden--visually\" id=\"sk-estimator-id-2\" type=\"checkbox\" checked><label for=\"sk-estimator-id-2\" class=\"sk-toggleable__label fitted sk-toggleable__label-arrow fitted\">&nbsp;&nbsp;LogisticRegression<a class=\"sk-estimator-doc-link fitted\" rel=\"noreferrer\" target=\"_blank\" href=\"https://scikit-learn.org/1.5/modules/generated/sklearn.linear_model.LogisticRegression.html\">?<span>Documentation for LogisticRegression</span></a><span class=\"sk-estimator-doc-link fitted\">i<span>Fitted</span></span></label><div class=\"sk-toggleable__content fitted\"><pre>LogisticRegression(max_iter=5000, random_state=0)</pre></div> </div></div></div></div>"
      ],
      "text/plain": [
       "LogisticRegression(max_iter=5000, random_state=0)"
      ]
     },
     "execution_count": 55,
     "metadata": {},
     "output_type": "execute_result"
    }
   ],
   "source": [
    "clf2 = LogisticRegression(random_state=0, max_iter=5000)\n",
    "clf2.fit(X_train, y_train)"
   ]
  },
  {
   "cell_type": "code",
   "execution_count": 56,
   "id": "a4fa36e7-ddf8-4e73-9994-c55bf79f17a2",
   "metadata": {},
   "outputs": [
    {
     "name": "stdout",
     "output_type": "stream",
     "text": [
      "Accuracy: 0.8189\n",
      "Precision: 0.87\n",
      "Recall: 0.90\n",
      "F1 Score: 0.88\n"
     ]
    }
   ],
   "source": [
    "# Make predictions\n",
    "y_pred = clf2.predict(X_test)\n",
    "\n",
    "# Calculate evaluation metrics\n",
    "accuracy = clf2.score(X_test, y_test)\n",
    "precision = precision_score(y_test, y_pred)\n",
    "recall = recall_score(y_test, y_pred)\n",
    "f1 = f1_score(y_test, y_pred)\n",
    "print(f\"Accuracy: {accuracy:.4f}\")\n",
    "print(f\"Precision: {precision:.2f}\")\n",
    "print(f\"Recall: {recall:.2f}\")\n",
    "print(f\"F1 Score: {f1:.2f}\")\n"
   ]
  },
  {
   "cell_type": "markdown",
   "id": "be7dcf8e-e79b-4131-a829-9dd1747c1ddf",
   "metadata": {},
   "source": [
    "##### Test Data"
   ]
  },
  {
   "cell_type": "code",
   "execution_count": 57,
   "id": "5169f79f-a643-495a-a477-ddb267bcf542",
   "metadata": {},
   "outputs": [
    {
     "name": "stdout",
     "output_type": "stream",
     "text": [
      "Accuracy: 0.43\n",
      "Precision: 1.00\n",
      "Recall: 0.43\n",
      "F1 Score: 0.60\n"
     ]
    }
   ],
   "source": [
    "test_features = [get_edge_features2(u, v, model) for u, v in test_edges]\n",
    "test_predictions = clf2.predict(test_features)\n",
    "test_df['label']=1\n",
    "# Assuming validation_df['label'] contains the ground truth labels for each edge in the validation set\n",
    "test_labels = test_df['label'].values  # Actual labels for validation edges\n",
    "\n",
    "# Calculate accuracy, precision, recall, and F1-score\n",
    "from sklearn.metrics import accuracy_score, precision_score, recall_score, f1_score\n",
    "\n",
    "n2v2_test_accuracy = accuracy_score(test_labels, test_predictions)\n",
    "n2v2_test_precision = precision_score(test_labels, test_predictions)\n",
    "n2v2_test_recall = recall_score(test_labels, test_predictions)\n",
    "n2v2_test_f1 = f1_score(test_labels, test_predictions)\n",
    "\n",
    "print(f\"Accuracy: {n2v2_test_accuracy:.2f}\")\n",
    "print(f\"Precision: {n2v2_test_precision:.2f}\")\n",
    "print(f\"Recall: {n2v2_test_recall:.2f}\")\n",
    "print(f\"F1 Score: {n2v2_test_f1:.2f}\")"
   ]
  },
  {
   "cell_type": "markdown",
   "id": "742d1f89-eec2-4da5-9612-1325a9df04c0",
   "metadata": {},
   "source": [
    "##### Validation Data"
   ]
  },
  {
   "cell_type": "code",
   "execution_count": 58,
   "id": "ebe8d5ba-ea1d-4094-9aa0-f49392569a62",
   "metadata": {},
   "outputs": [
    {
     "name": "stdout",
     "output_type": "stream",
     "text": [
      "Accuracy: 0.45\n",
      "Precision: 1.00\n",
      "Recall: 0.45\n",
      "F1 Score: 0.62\n"
     ]
    }
   ],
   "source": [
    "val_features = [get_edge_features2(u, v, model) for u, v in val_edges]\n",
    "val_predictions = clf2.predict(val_features)\n",
    "validation_df['label']=1\n",
    "# Assuming validation_df['label'] contains the ground truth labels for each edge in the validation set\n",
    "val_labels = validation_df['label'].values  # Actual labels for validation edges\n",
    "\n",
    "# Calculate accuracy, precision, recall, and F1-score\n",
    "from sklearn.metrics import accuracy_score, precision_score, recall_score, f1_score\n",
    "\n",
    "n2v2_val_accuracy = accuracy_score(val_labels, val_predictions)\n",
    "n2v2_val_precision = precision_score(val_labels, val_predictions)\n",
    "n2v2_val_recall = recall_score(val_labels, val_predictions)\n",
    "n2v2_val_f1 = f1_score(val_labels, val_predictions)\n",
    "\n",
    "print(f\"Accuracy: {n2v2_val_accuracy:.2f}\")\n",
    "print(f\"Precision: {n2v2_val_precision:.2f}\")\n",
    "print(f\"Recall: {n2v2_val_recall:.2f}\")\n",
    "print(f\"F1 Score: {n2v2_val_f1:.2f}\")"
   ]
  },
  {
   "cell_type": "markdown",
   "id": "584c03a5-6f44-48a9-bbd3-32fa1ab01f2c",
   "metadata": {},
   "source": [
    "#### 2.2.2 Neural Nets"
   ]
  },
  {
   "cell_type": "code",
   "execution_count": 59,
   "id": "fc1cc39a-4c89-4556-86e8-c531a2baf040",
   "metadata": {},
   "outputs": [
    {
     "name": "stdout",
     "output_type": "stream",
     "text": [
      "Epoch 1/10\n"
     ]
    },
    {
     "name": "stderr",
     "output_type": "stream",
     "text": [
      "/home/pvok/.local/lib/python3.10/site-packages/keras/src/layers/core/dense.py:87: UserWarning: Do not pass an `input_shape`/`input_dim` argument to a layer. When using Sequential models, prefer using an `Input(shape)` object as the first layer in the model instead.\n",
      "  super().__init__(activity_regularizer=activity_regularizer, **kwargs)\n"
     ]
    },
    {
     "name": "stdout",
     "output_type": "stream",
     "text": [
      "\u001b[1m134/134\u001b[0m \u001b[32m━━━━━━━━━━━━━━━━━━━━\u001b[0m\u001b[37m\u001b[0m \u001b[1m0s\u001b[0m 2ms/step - accuracy: 0.7551 - loss: 0.5521 - val_accuracy: 0.7325 - val_loss: 0.4992\n",
      "Epoch 2/10\n",
      "\u001b[1m134/134\u001b[0m \u001b[32m━━━━━━━━━━━━━━━━━━━━\u001b[0m\u001b[37m\u001b[0m \u001b[1m0s\u001b[0m 684us/step - accuracy: 0.7696 - loss: 0.4557 - val_accuracy: 0.7437 - val_loss: 0.4700\n",
      "Epoch 3/10\n",
      "\u001b[1m134/134\u001b[0m \u001b[32m━━━━━━━━━━━━━━━━━━━━\u001b[0m\u001b[37m\u001b[0m \u001b[1m0s\u001b[0m 645us/step - accuracy: 0.7684 - loss: 0.4426 - val_accuracy: 0.7633 - val_loss: 0.4521\n",
      "Epoch 4/10\n",
      "\u001b[1m134/134\u001b[0m \u001b[32m━━━━━━━━━━━━━━━━━━━━\u001b[0m\u001b[37m\u001b[0m \u001b[1m0s\u001b[0m 646us/step - accuracy: 0.7908 - loss: 0.4282 - val_accuracy: 0.7764 - val_loss: 0.4397\n",
      "Epoch 5/10\n",
      "\u001b[1m134/134\u001b[0m \u001b[32m━━━━━━━━━━━━━━━━━━━━\u001b[0m\u001b[37m\u001b[0m \u001b[1m0s\u001b[0m 644us/step - accuracy: 0.8163 - loss: 0.3982 - val_accuracy: 0.7811 - val_loss: 0.4297\n",
      "Epoch 6/10\n",
      "\u001b[1m134/134\u001b[0m \u001b[32m━━━━━━━━━━━━━━━━━━━━\u001b[0m\u001b[37m\u001b[0m \u001b[1m0s\u001b[0m 639us/step - accuracy: 0.8131 - loss: 0.3909 - val_accuracy: 0.7951 - val_loss: 0.4221\n",
      "Epoch 7/10\n",
      "\u001b[1m134/134\u001b[0m \u001b[32m━━━━━━━━━━━━━━━━━━━━\u001b[0m\u001b[37m\u001b[0m \u001b[1m0s\u001b[0m 639us/step - accuracy: 0.8177 - loss: 0.3935 - val_accuracy: 0.8054 - val_loss: 0.4155\n",
      "Epoch 8/10\n",
      "\u001b[1m134/134\u001b[0m \u001b[32m━━━━━━━━━━━━━━━━━━━━\u001b[0m\u001b[37m\u001b[0m \u001b[1m0s\u001b[0m 651us/step - accuracy: 0.8179 - loss: 0.3958 - val_accuracy: 0.8026 - val_loss: 0.4138\n",
      "Epoch 9/10\n",
      "\u001b[1m134/134\u001b[0m \u001b[32m━━━━━━━━━━━━━━━━━━━━\u001b[0m\u001b[37m\u001b[0m \u001b[1m0s\u001b[0m 634us/step - accuracy: 0.8229 - loss: 0.3916 - val_accuracy: 0.8082 - val_loss: 0.4088\n",
      "Epoch 10/10\n",
      "\u001b[1m134/134\u001b[0m \u001b[32m━━━━━━━━━━━━━━━━━━━━\u001b[0m\u001b[37m\u001b[0m \u001b[1m0s\u001b[0m 638us/step - accuracy: 0.8257 - loss: 0.3819 - val_accuracy: 0.8120 - val_loss: 0.4067\n",
      "\u001b[1m42/42\u001b[0m \u001b[32m━━━━━━━━━━━━━━━━━━━━\u001b[0m\u001b[37m\u001b[0m \u001b[1m0s\u001b[0m 640us/step\n",
      "\u001b[1m42/42\u001b[0m \u001b[32m━━━━━━━━━━━━━━━━━━━━\u001b[0m\u001b[37m\u001b[0m \u001b[1m0s\u001b[0m 436us/step - accuracy: 0.8129 - loss: 0.4135\n",
      "Test Accuracy: 0.81\n",
      "Test Precision: 0.86\n",
      "Test Recall: 0.90\n",
      "Test F1 Score: 0.88\n"
     ]
    }
   ],
   "source": [
    "X = np.array(X)\n",
    "y = np.array(y)\n",
    "X_train, X_test, y_train, y_test = train_test_split(X, y, test_size=0.2, random_state=42)\n",
    "\n",
    "# Define the neural network model\n",
    "model_nn2 = models.Sequential([\n",
    "    layers.Dense(8, activation='relu', input_shape=(X.shape[1],)),\n",
    "    layers.Dense(1, activation='sigmoid')\n",
    "])\n",
    "model_nn2.compile(optimizer='adam', loss='binary_crossentropy', metrics=['accuracy'])\n",
    "\n",
    "# Train the model\n",
    "history = model_nn2.fit(X_train, y_train, epochs=10, batch_size=32, validation_split=0.2)\n",
    "\n",
    "test_predictions = model_nn2.predict(X_test)\n",
    "test_predictions = (test_predictions > 0.5).astype(int)\n",
    "\n",
    "# Calculate metrics\n",
    "test_precision = precision_score(y_test, test_predictions)\n",
    "test_recall = recall_score(y_test, test_predictions)\n",
    "test_f1 = f1_score(y_test, test_predictions)\n",
    "\n",
    "# Print results\n",
    "test_loss, test_accuracy = model_nn2.evaluate(X_test, y_test)\n",
    "print(f\"Test Accuracy: {test_accuracy:.2f}\")\n",
    "print(f\"Test Precision: {test_precision:.2f}\")\n",
    "print(f\"Test Recall: {test_recall:.2f}\")\n",
    "print(f\"Test F1 Score: {test_f1:.2f}\")"
   ]
  },
  {
   "cell_type": "markdown",
   "id": "832c0c7f-7ca5-4ddb-a873-ff8b063ae081",
   "metadata": {},
   "source": [
    "##### Test Data"
   ]
  },
  {
   "cell_type": "code",
   "execution_count": 60,
   "id": "cb4885e1-833d-478a-b614-e042b3cc5e96",
   "metadata": {},
   "outputs": [
    {
     "name": "stdout",
     "output_type": "stream",
     "text": [
      "\u001b[1m27/27\u001b[0m \u001b[32m━━━━━━━━━━━━━━━━━━━━\u001b[0m\u001b[37m\u001b[0m \u001b[1m0s\u001b[0m 474us/step\n",
      "Accuracy: 0.08\n",
      "Precision: 1.00\n",
      "Recall: 0.08\n",
      "F1 Score: 0.14\n"
     ]
    }
   ],
   "source": [
    "test_predictions = model_nn2.predict(np.array(test_features))\n",
    "test_predictions = (test_predictions > 0.5).astype(int)\n",
    "\n",
    "nn2_test_accuracy = accuracy_score(test_labels, test_predictions)\n",
    "nn2_test_precision = precision_score(test_labels, test_predictions)\n",
    "nn2_test_recall = recall_score(test_labels, test_predictions)\n",
    "nn2_test_f1 = f1_score(test_labels, test_predictions)\n",
    "\n",
    "print(f\"Accuracy: {nn2_test_accuracy:.2f}\")\n",
    "print(f\"Precision: {nn2_test_precision:.2f}\")\n",
    "print(f\"Recall: {nn2_test_recall:.2f}\")\n",
    "print(f\"F1 Score: {nn2_test_f1:.2f}\")"
   ]
  },
  {
   "cell_type": "markdown",
   "id": "72a9e411-cd66-4d1d-8b98-7f098143cf5f",
   "metadata": {},
   "source": [
    "##### Validation Data"
   ]
  },
  {
   "cell_type": "code",
   "execution_count": 61,
   "id": "cfefceaa-f035-4c86-9b27-040d34c07650",
   "metadata": {},
   "outputs": [
    {
     "name": "stdout",
     "output_type": "stream",
     "text": [
      "\u001b[1m27/27\u001b[0m \u001b[32m━━━━━━━━━━━━━━━━━━━━\u001b[0m\u001b[37m\u001b[0m \u001b[1m0s\u001b[0m 494us/step\n",
      "Accuracy: 0.08\n",
      "Precision: 1.00\n",
      "Recall: 0.08\n",
      "F1 Score: 0.16\n"
     ]
    }
   ],
   "source": [
    "val_predictions = model_nn2.predict(np.array(val_features))\n",
    "val_predictions = (val_predictions > 0.5).astype(int)\n",
    "\n",
    "nn2_val_accuracy = accuracy_score(val_labels, val_predictions)\n",
    "nn2_val_precision = precision_score(val_labels, val_predictions)\n",
    "nn2_val_recall = recall_score(val_labels, val_predictions)\n",
    "nn2_val_f1 = f1_score(val_labels, val_predictions)\n",
    "\n",
    "print(f\"Accuracy: {nn2_val_accuracy:.2f}\")\n",
    "print(f\"Precision: {nn2_val_precision:.2f}\")\n",
    "print(f\"Recall: {nn2_val_recall:.2f}\")\n",
    "print(f\"F1 Score: {nn2_val_f1:.2f}\")"
   ]
  },
  {
   "cell_type": "markdown",
   "id": "e3a57d4d-aae1-463a-afef-1a48e801d3f1",
   "metadata": {},
   "source": [
    "## Apporch 1: Jaccard Coefficient"
   ]
  },
  {
   "cell_type": "markdown",
   "id": "5b52956a-d223-473b-a05d-2603b0ea465f",
   "metadata": {},
   "source": [
    "Using networkx's inbuild function to calc Jaccard Coefficient. "
   ]
  },
  {
   "cell_type": "markdown",
   "id": "91042dfe-83fb-44ae-8997-c2cff9483804",
   "metadata": {},
   "source": [
    "### Metrics\n",
    "Test:\n",
    "    Accuracy: 0.70\n",
    "    Precision: 1.00\n",
    "    Recall: 0.70\n",
    "    F1-score: 0.82\n",
    "\n",
    "Validation Data:\n",
    "    Accuracy: 0.71\n",
    "    Precision: 1.00\n",
    "    Recall: 0.71\n",
    "    F1-score: 0.83"
   ]
  },
  {
   "cell_type": "markdown",
   "id": "dc6ecd2c-77a4-49f1-b3f8-129ec67c1f16",
   "metadata": {},
   "source": [
    "## Apporch 2: Node to Vector Embedding"
   ]
  },
  {
   "cell_type": "markdown",
   "id": "d9be9872-ae0e-4143-8529-795a948add80",
   "metadata": {},
   "source": [
    "### 2.1 Edge Embedding"
   ]
  },
  {
   "cell_type": "markdown",
   "id": "215d3480-8946-4f80-85ee-70385945a4ae",
   "metadata": {},
   "source": [
    "Using Python's node2vec package, vector embeddings for the nodes within the graph were generated. After generating the vector embeddings, edge embeddings were created by multiplying the Vector embeddings by performing Hadamard product for 2 sets of nodes.\n",
    "\n",
    "1. Edges that exist in the train edges.csv.*\n",
    "2. Edges that do not exist in the original graph.*\n",
    "\n",
    "These embeddings were then used to create 2 models to predict whether edges exist between 2 nodes using 2 methodologies.\n",
    "\n",
    "1. Plain vanilla Logistic regression.\n",
    "2. Neural Network model with one dense layer (16 nodes) and one output layer.\n",
    "\n",
    "*For training only nodes whose embeddings were generated by node2vec during its random walks were taken into consideration. For testing all nodes were taken into consideration, nodes that did not have embeddings generated by node2vec have an embedding value as avg of all nodes whose embeddings have been generated."
   ]
  },
  {
   "cell_type": "markdown",
   "id": "e534aef5-e006-4322-b991-2cec2ab3bd57",
   "metadata": {},
   "source": [
    "#### Metrics"
   ]
  },
  {
   "cell_type": "markdown",
   "id": "806e101b-5f3e-4dd9-bfcb-01be17aee0d2",
   "metadata": {
    "jp-MarkdownHeadingCollapsed": true
   },
   "source": [
    "##### 2.1.1 Logistic regression\n",
    "Test Data:\n",
    "Accuracy: 0.79\n",
    "Precision: 1.00\n",
    "Recall: 0.79\n",
    "F1 Score: 0.88\n",
    "\n",
    "Validation Data:\n",
    "Accuracy: 0.80\n",
    "Precision: 1.00\n",
    "Recall: 0.80\n",
    "F1 Score: 0.89"
   ]
  },
  {
   "cell_type": "markdown",
   "id": "42d6be17-bd09-4a25-a730-9382cf92ac27",
   "metadata": {},
   "source": [
    "##### 2.1.2 Neural Net\n",
    "Test Data:\n",
    "Accuracy: 0.64\n",
    "Precision: 1.00\n",
    "Recall: 0.64\n",
    "F1 Score: 0.78\n",
    "\n",
    "Validation Data:\n",
    "Accuracy: 0.80\n",
    "Precision: 1.00\n",
    "Recall: 0.80\n",
    "F1 Score: 0.89"
   ]
  },
  {
   "cell_type": "markdown",
   "id": "c293dac4-32e2-41c6-9f76-a307bbde4d77",
   "metadata": {},
   "source": [
    "### 2.2 Vector Embedding"
   ]
  },
  {
   "cell_type": "markdown",
   "id": "89354f21-acdb-478e-a23a-ceffe2ccdb5f",
   "metadata": {},
   "source": [
    "Using Python's node2vec package, vector embeddings for the nodes within the graph were generated. Pairwise embeddings were merged for the following 2 sets of nodes.\n",
    "\n",
    "1. Edges that exist in the train edges.csv.*\n",
    "2. Edges that do not exist in the original graph.*\n",
    "\n",
    "These embeddings were then used to create 2 models to predict whether edges exist between 2 nodes using 2 methodologies.\n",
    "\n",
    "1. Plain vanilla Logistic regression.\n",
    "2. Neural Network model with one dense layer (8 nodes) and one output layer.\n",
    "\n",
    "*For training only nodes whose embeddings were generated by node2vec during its random walks were taken into consideration. For testing all nodes were taken into consideration, nodes that did not have embeddings generated by node2vec have an embedding value as avg of all nodes whose embeddings have been generated."
   ]
  },
  {
   "cell_type": "markdown",
   "id": "952e108f-8643-44a3-afe6-1d2e1885513b",
   "metadata": {},
   "source": [
    "#### Metrics"
   ]
  },
  {
   "cell_type": "markdown",
   "id": "3d7342b4-e573-45c5-b3f5-f823fba8d7b1",
   "metadata": {},
   "source": [
    "##### 2.2.1 Logistic regression\n",
    "Test Data:\n",
    "Accuracy: 0.43\n",
    "Precision: 1.00\n",
    "Recall: 0.43\n",
    "F1 Score: 0.60\n",
    "\n",
    "Validation Data:\n",
    "Accuracy: 0.44\n",
    "Precision: 1.00\n",
    "Recall: 0.44\n",
    "F1 Score: 0.61"
   ]
  },
  {
   "cell_type": "markdown",
   "id": "56e11359-a660-4a93-8958-08de6f5d8935",
   "metadata": {},
   "source": [
    "##### 2.2.2 Neural Net\n",
    "Test Data:\n",
    "Accuracy: 0.16\n",
    "Precision: 1.00\n",
    "Recall: 0.16\n",
    "F1 Score: 0.28\n",
    "\n",
    "Validation Data:\n",
    "Accuracy: 0.20\n",
    "Precision: 1.00\n",
    "Recall: 0.20\n",
    "F1 Score: 0.33"
   ]
  }
 ],
 "metadata": {
  "kernelspec": {
   "display_name": "Python 3 (ipykernel)",
   "language": "python",
   "name": "python3"
  },
  "language_info": {
   "codemirror_mode": {
    "name": "ipython",
    "version": 3
   },
   "file_extension": ".py",
   "mimetype": "text/x-python",
   "name": "python",
   "nbconvert_exporter": "python",
   "pygments_lexer": "ipython3",
   "version": "3.10.12"
  }
 },
 "nbformat": 4,
 "nbformat_minor": 5
}
